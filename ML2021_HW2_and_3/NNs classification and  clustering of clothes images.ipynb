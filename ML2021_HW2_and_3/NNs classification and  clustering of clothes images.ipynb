{
 "cells": [
  {
   "cell_type": "markdown",
   "metadata": {},
   "source": [
    "# Neural Networks for Classification, and Clustering\n",
    "\n",
    "In this notebook we are going to explore the use of Neural Networks for image classification. We are going to use a dataset of small images of clothes and accessories, the Fashion MNIST. You can find more information regarding the dataset here: https://pravarmahajan.github.io/fashion/\n",
    "\n",
    "Each instance in the dataset consist of an image, in a format similar to the digit images you have seen in the previous homework, and a label. The labels correspond to the type of clothing, as follows:\n",
    "\n",
    "| Label | Description |\n",
    "| --- | --- |\n",
    "| 0 | T-shirt/top |\n",
    "| 1 | Trouser |\n",
    "| 2 | Pullover |\n",
    "| 3 | Dress |\n",
    "| 4 | Coat |\n",
    "| 5 | Sandal |\n",
    "| 6 | Shirt |\n",
    "| 7 | Sneaker |\n",
    "| 8 | Bag |\n",
    "| 9 | Ankle boot |"
   ]
  },
  {
   "cell_type": "markdown",
   "metadata": {},
   "source": [
    "Let's first load the required packages."
   ]
  },
  {
   "cell_type": "code",
   "execution_count": 1,
   "metadata": {},
   "outputs": [],
   "source": [
    "#load the required packages\n",
    "\n",
    "%matplotlib inline  \n",
    "\n",
    "import numpy as np\n",
    "import scipy as sp\n",
    "import matplotlib.pyplot as plt\n",
    "import pandas as pd\n",
    "import sklearn\n",
    "from sklearn.neural_network import MLPClassifier\n",
    "from sklearn.model_selection import GridSearchCV\n",
    "from sklearn.svm import SVC\n",
    "from sklearn.preprocessing import StandardScaler\n"
   ]
  },
  {
   "cell_type": "markdown",
   "metadata": {},
   "source": [
    "The following is a function to load the data, that we are going to use later in the notebook."
   ]
  },
  {
   "cell_type": "code",
   "execution_count": 2,
   "metadata": {},
   "outputs": [],
   "source": [
    "# helper function to load Fashion MNIST dataset from disk\n",
    "def load_fashion_mnist(path, kind='train'):\n",
    "    import os\n",
    "    import gzip\n",
    "    import numpy as np\n",
    "    labels_path = os.path.join(path, '%s-labels-idx1-ubyte.gz' % kind)\n",
    "    images_path = os.path.join(path, '%s-images-idx3-ubyte.gz' % kind)\n",
    "    with gzip.open(labels_path, 'rb') as lbpath:\n",
    "        labels = np.frombuffer(lbpath.read(), dtype=np.uint8,offset=8)\n",
    "    with gzip.open(images_path, 'rb') as imgpath:\n",
    "        images = np.frombuffer(imgpath.read(), dtype=np.uint8,offset=16).reshape(len(labels), 784)\n",
    "    return images, labels"
   ]
  },
  {
   "cell_type": "markdown",
   "metadata": {},
   "source": [
    "## TO DO 0\n",
    "Place your ID (\"numero di matricola\") that will be used as seed for random generator. Change the ID number in case you observe unexpected behaviours and want to test if this is due to randomization (e.g., train/test split). If you change the ID number explain why you have change it."
   ]
  },
  {
   "cell_type": "code",
   "execution_count": 3,
   "metadata": {},
   "outputs": [],
   "source": [
    "ID = 2056755\n",
    "np.random.seed(ID)"
   ]
  },
  {
   "cell_type": "markdown",
   "metadata": {},
   "source": [
    "Now we load the dataset using the function above."
   ]
  },
  {
   "cell_type": "code",
   "execution_count": 4,
   "metadata": {},
   "outputs": [],
   "source": [
    "#load the fashion MNIST dataset and normalize the features so that each value is in [0,1]\n",
    "\n",
    "X, y = load_fashion_mnist(\"C:/Users/Piermarco/Documents/GitHub/Machine-Learning/ML2021_HW2_and_3/data/data\", kind='train')\n",
    "# rescale the data\n",
    "X = X / 255.0 "
   ]
  },
  {
   "cell_type": "markdown",
   "metadata": {},
   "source": [
    "Now we split the data into training and test. Make sure that each label is present at least 10 times\n",
    "in the training set."
   ]
  },
  {
   "cell_type": "code",
   "execution_count": 5,
   "metadata": {},
   "outputs": [
    {
     "name": "stdout",
     "output_type": "stream",
     "text": [
      "Labels in training dataset:  [0 1 2 3 4 5 6 7 8 9]\n",
      "Frequencies in training dataset:  [44 46 57 74 48 39 52 49 33 58]\n"
     ]
    }
   ],
   "source": [
    "#random permute the data and split into training and test taking the first 500\n",
    "#data samples as training and the rest as test\n",
    "permutation = np.random.permutation(X.shape[0])\n",
    "\n",
    "X = X[permutation]\n",
    "y = y[permutation]\n",
    "\n",
    "m_training = 500\n",
    "\n",
    "X_train, X_test = X[:m_training], X[m_training:]\n",
    "y_train, y_test = y[:m_training], y[m_training:]\n",
    "\n",
    "labels, freqs = np.unique(y_train, return_counts=True)\n",
    "print(\"Labels in training dataset: \", labels)\n",
    "print(\"Frequencies in training dataset: \", freqs)"
   ]
  },
  {
   "cell_type": "markdown",
   "metadata": {},
   "source": [
    "The following function plots an image and the corresponding label, to be used to inspect the data when needed."
   ]
  },
  {
   "cell_type": "code",
   "execution_count": 6,
   "metadata": {},
   "outputs": [],
   "source": [
    "#function for plotting a image and printing the corresponding label\n",
    "def plot_input(X_matrix, labels, index):\n",
    "    print(\"INPUT:\")\n",
    "    plt.imshow(\n",
    "        X_matrix[index].reshape(28,28),\n",
    "        cmap          = plt.cm.gray_r,\n",
    "        interpolation = \"nearest\"\n",
    "    )\n",
    "    plt.show()\n",
    "    print(\"LABEL: %i\"%labels[index])\n",
    "    return"
   ]
  },
  {
   "cell_type": "markdown",
   "metadata": {},
   "source": [
    "Now let's test the function above and check few images."
   ]
  },
  {
   "cell_type": "code",
   "execution_count": 7,
   "metadata": {},
   "outputs": [
    {
     "name": "stdout",
     "output_type": "stream",
     "text": [
      "INPUT:\n"
     ]
    },
    {
     "data": {
      "image/png": "[encoded data removed]",
      "text/plain": [
       "<Figure size 432x288 with 1 Axes>"
      ]
     },
     "metadata": {
      "needs_background": "light"
     },
     "output_type": "display_data"
    },
    {
     "name": "stdout",
     "output_type": "stream",
     "text": [
      "LABEL: 0\n",
      "INPUT:\n"
     ]
    },
    {
     "data": {
      "image/png": "[encoded data removed]",
      "text/plain": [
       "<Figure size 432x288 with 1 Axes>"
      ]
     },
     "metadata": {
      "needs_background": "light"
     },
     "output_type": "display_data"
    },
    {
     "name": "stdout",
     "output_type": "stream",
     "text": [
      "LABEL: 1\n",
      "INPUT:\n"
     ]
    },
    {
     "data": {
      "image/png": "[encoded data removed]",
      "text/plain": [
       "<Figure size 432x288 with 1 Axes>"
      ]
     },
     "metadata": {
      "needs_background": "light"
     },
     "output_type": "display_data"
    },
    {
     "name": "stdout",
     "output_type": "stream",
     "text": [
      "LABEL: 7\n"
     ]
    }
   ],
   "source": [
    "#let's try the plotting function\n",
    "plot_input(X_train,y_train,10)\n",
    "plot_input(X_test,y_test,50)\n",
    "plot_input(X_test,y_test,300)"
   ]
  },
  {
   "cell_type": "markdown",
   "metadata": {},
   "source": [
    "## TO DO 1\n",
    "\n",
    "Now use a (feed-forward) Neural Network for prediction. Use the multi-layer perceptron (MLP) classifier MLPClassifier(...) in scikit-learn, with the following parameters: max_iter=300, alpha=1e-4, solver='sgd', tol=1e-4, learning_rate_init=.1, random_state=ID (this last parameter ensures the run is the same even if you run it more than once). The alpha parameter is the regularization parameter for L2 regularization that is used by the MLP in sklearn.\n",
    "\n",
    "Then, using the default activation function, pick four or five architectures to consider, with different numbers of hidden layers and different sizes. It is not necessary to create huge neural networks, you can limit to 3 layers and, for each layer, its maximum size can be of 100. You can evaluate the architectures you chose using the GridSearchCV with a 5-fold cross-validation, and use the results to pick the best architecture. The code below provides some architectures you can use, but you can choose other ones if you prefer.\n"
   ]
  },
  {
   "cell_type": "code",
   "execution_count": 22,
   "metadata": {},
   "outputs": [
    {
     "name": "stdout",
     "output_type": "stream",
     "text": [
      "RESULTS FOR NN\n",
      "\n",
      "Best parameters set found:\n",
      "{'hidden_layer_sizes': (100,)}\n",
      "Score with best parameters:\n",
      "0.8525\n",
      "All scores on the grid:\n",
      "[0.8008 0.8384 0.7961 0.8444 0.8488 0.8525]\n"
     ]
    }
   ],
   "source": [
    "#MLPclassifier requires in input the parameter hidden_layer_sizes, that is a tuple specifying the number of \n",
    "#neurons in the hidden layers; for example: (10,) means that there is only 1 hidden layer with 10 neurons; \n",
    "#(10,50) means that there are 2 hidden layers, the first with 10 neurons, the second with 50 neurons\n",
    "\n",
    "#these are examples of possible architectures you can test, but feel free to use different architectures! \n",
    "hl_parameters = {'hidden_layer_sizes': [(10,), (50,), (10,10,), (50,50,), (100,100,), (100,)]}\n",
    "MLP = MLPClassifier(max_iter = 300, alpha = 1e-4, solver = 'sgd', tol = 1e-4, learning_rate_init =.1)\n",
    "mlp_cv = GridSearchCV(MLP, hl_parameters, cv = 5).fit(X_train, y_train)\n",
    "\n",
    "print ('RESULTS FOR NN\\n')\n",
    "print(\"Best parameters set found:\")\n",
    "print(mlp_cv.best_params_)\n",
    "print(\"Score with best parameters:\")\n",
    "print(mlp_cv.best_score_)\n",
    "print(\"All scores on the grid:\")\n",
    "print(mlp_cv.cv_results_['mean_test_score'])"
   ]
  },
  {
   "cell_type": "code",
   "execution_count": 9,
   "metadata": {},
   "outputs": [
    {
     "data": {
      "text/html": [
       "<div>\n",
       "<style scoped>\n",
       "    .dataframe tbody tr th:only-of-type {\n",
       "        vertical-align: middle;\n",
       "    }\n",
       "\n",
       "    .dataframe tbody tr th {\n",
       "        vertical-align: top;\n",
       "    }\n",
       "\n",
       "    .dataframe thead th {\n",
       "        text-align: right;\n",
       "    }\n",
       "</style>\n",
       "<table border=\"1\" class=\"dataframe\">\n",
       "  <thead>\n",
       "    <tr style=\"text-align: right;\">\n",
       "      <th></th>\n",
       "      <th>mean_fit_time</th>\n",
       "      <th>std_fit_time</th>\n",
       "      <th>mean_score_time</th>\n",
       "      <th>std_score_time</th>\n",
       "      <th>param_hidden_layer_sizes</th>\n",
       "      <th>params</th>\n",
       "      <th>split0_test_score</th>\n",
       "      <th>split1_test_score</th>\n",
       "      <th>split2_test_score</th>\n",
       "      <th>split3_test_score</th>\n",
       "      <th>split4_test_score</th>\n",
       "      <th>mean_test_score</th>\n",
       "      <th>std_test_score</th>\n",
       "      <th>rank_test_score</th>\n",
       "    </tr>\n",
       "  </thead>\n",
       "  <tbody>\n",
       "    <tr>\n",
       "      <th>0</th>\n",
       "      <td>0.854946</td>\n",
       "      <td>0.501258</td>\n",
       "      <td>0.004716</td>\n",
       "      <td>0.006943</td>\n",
       "      <td>(10,)</td>\n",
       "      <td>{'hidden_layer_sizes': (10,)}</td>\n",
       "      <td>0.56</td>\n",
       "      <td>0.72</td>\n",
       "      <td>0.68</td>\n",
       "      <td>0.68</td>\n",
       "      <td>0.70</td>\n",
       "      <td>0.668</td>\n",
       "      <td>0.056000</td>\n",
       "      <td>5</td>\n",
       "    </tr>\n",
       "    <tr>\n",
       "      <th>1</th>\n",
       "      <td>1.367654</td>\n",
       "      <td>0.440510</td>\n",
       "      <td>0.001796</td>\n",
       "      <td>0.000399</td>\n",
       "      <td>(50,)</td>\n",
       "      <td>{'hidden_layer_sizes': (50,)}</td>\n",
       "      <td>0.80</td>\n",
       "      <td>0.72</td>\n",
       "      <td>0.73</td>\n",
       "      <td>0.79</td>\n",
       "      <td>0.73</td>\n",
       "      <td>0.754</td>\n",
       "      <td>0.033823</td>\n",
       "      <td>2</td>\n",
       "    </tr>\n",
       "    <tr>\n",
       "      <th>2</th>\n",
       "      <td>0.422915</td>\n",
       "      <td>0.063446</td>\n",
       "      <td>0.001797</td>\n",
       "      <td>0.000400</td>\n",
       "      <td>(10, 10)</td>\n",
       "      <td>{'hidden_layer_sizes': (10, 10)}</td>\n",
       "      <td>0.68</td>\n",
       "      <td>0.73</td>\n",
       "      <td>0.35</td>\n",
       "      <td>0.47</td>\n",
       "      <td>0.22</td>\n",
       "      <td>0.490</td>\n",
       "      <td>0.193184</td>\n",
       "      <td>6</td>\n",
       "    </tr>\n",
       "    <tr>\n",
       "      <th>3</th>\n",
       "      <td>0.885590</td>\n",
       "      <td>0.282208</td>\n",
       "      <td>0.001396</td>\n",
       "      <td>0.000489</td>\n",
       "      <td>(50, 50)</td>\n",
       "      <td>{'hidden_layer_sizes': (50, 50)}</td>\n",
       "      <td>0.70</td>\n",
       "      <td>0.55</td>\n",
       "      <td>0.72</td>\n",
       "      <td>0.78</td>\n",
       "      <td>0.72</td>\n",
       "      <td>0.694</td>\n",
       "      <td>0.076837</td>\n",
       "      <td>4</td>\n",
       "    </tr>\n",
       "    <tr>\n",
       "      <th>4</th>\n",
       "      <td>1.549763</td>\n",
       "      <td>0.481258</td>\n",
       "      <td>0.002994</td>\n",
       "      <td>0.000629</td>\n",
       "      <td>(100, 100)</td>\n",
       "      <td>{'hidden_layer_sizes': (100, 100)}</td>\n",
       "      <td>0.80</td>\n",
       "      <td>0.71</td>\n",
       "      <td>0.77</td>\n",
       "      <td>0.78</td>\n",
       "      <td>0.66</td>\n",
       "      <td>0.744</td>\n",
       "      <td>0.051614</td>\n",
       "      <td>3</td>\n",
       "    </tr>\n",
       "    <tr>\n",
       "      <th>5</th>\n",
       "      <td>1.883788</td>\n",
       "      <td>0.216928</td>\n",
       "      <td>0.001796</td>\n",
       "      <td>0.000399</td>\n",
       "      <td>(100,)</td>\n",
       "      <td>{'hidden_layer_sizes': (100,)}</td>\n",
       "      <td>0.81</td>\n",
       "      <td>0.73</td>\n",
       "      <td>0.69</td>\n",
       "      <td>0.82</td>\n",
       "      <td>0.75</td>\n",
       "      <td>0.760</td>\n",
       "      <td>0.048990</td>\n",
       "      <td>1</td>\n",
       "    </tr>\n",
       "  </tbody>\n",
       "</table>\n",
       "</div>"
      ],
      "text/plain": [
       "   mean_fit_time  std_fit_time  mean_score_time  std_score_time  \\\n",
       "0       0.854946      0.501258         0.004716        0.006943   \n",
       "1       1.367654      0.440510         0.001796        0.000399   \n",
       "2       0.422915      0.063446         0.001797        0.000400   \n",
       "3       0.885590      0.282208         0.001396        0.000489   \n",
       "4       1.549763      0.481258         0.002994        0.000629   \n",
       "5       1.883788      0.216928         0.001796        0.000399   \n",
       "\n",
       "  param_hidden_layer_sizes                              params  \\\n",
       "0                    (10,)       {'hidden_layer_sizes': (10,)}   \n",
       "1                    (50,)       {'hidden_layer_sizes': (50,)}   \n",
       "2                 (10, 10)    {'hidden_layer_sizes': (10, 10)}   \n",
       "3                 (50, 50)    {'hidden_layer_sizes': (50, 50)}   \n",
       "4               (100, 100)  {'hidden_layer_sizes': (100, 100)}   \n",
       "5                   (100,)      {'hidden_layer_sizes': (100,)}   \n",
       "\n",
       "   split0_test_score  split1_test_score  split2_test_score  split3_test_score  \\\n",
       "0               0.56               0.72               0.68               0.68   \n",
       "1               0.80               0.72               0.73               0.79   \n",
       "2               0.68               0.73               0.35               0.47   \n",
       "3               0.70               0.55               0.72               0.78   \n",
       "4               0.80               0.71               0.77               0.78   \n",
       "5               0.81               0.73               0.69               0.82   \n",
       "\n",
       "   split4_test_score  mean_test_score  std_test_score  rank_test_score  \n",
       "0               0.70            0.668        0.056000                5  \n",
       "1               0.73            0.754        0.033823                2  \n",
       "2               0.22            0.490        0.193184                6  \n",
       "3               0.72            0.694        0.076837                4  \n",
       "4               0.66            0.744        0.051614                3  \n",
       "5               0.75            0.760        0.048990                1  "
      ]
     },
     "execution_count": 9,
     "metadata": {},
     "output_type": "execute_result"
    }
   ],
   "source": [
    "pd.DataFrame(mlp_cv.cv_results_)"
   ]
  },
  {
   "cell_type": "markdown",
   "metadata": {},
   "source": [
    "## TO DO 2\n",
    "\n",
    "What do you observe for different architectures and their scores? How do the number of layers and their sizes affect the performances?\n",
    "\n",
    "On the pandas data frame extract from it's possible to see how the performance for a few hidden layers like (10,10,) or (10,) is going pretty bad but if we increased it's possible to see a good improvement of the NNs, this is caused by the low number of the neuron. But looking at data it's is easy to see how important is the number of neurons on the first hidden layer by choosing (100,) (50,), I got the best mean score on all over the K-fold test. \n",
    "Furthermore, I decided to add one more hidden layer of the same size as the first one, I expected a slight improvement of the neural network, but this doesn't happen. So, looking at the data I can figure out that the performance with (100,100,) and (50,50,) went down pretty heavily on the layer with 50 neurons and slightly on the layer with 100 neurons. Probably for this problem add new hidden layers doesn't lead the NNs to learn better features to classify the clothes and the number of samples is too low to use larger NNs.\n",
    "\n",
    "\n"
   ]
  },
  {
   "cell_type": "markdown",
   "metadata": {},
   "source": [
    "## TO DO 3\n",
    "\n",
    "Now get training and test error (according to the initial split) for a NN with best parameters chosen from the cross-validation above (and learning the NN weights from the entire training set). Use verbose=True\n",
    "in input so to see how loss changes in iterations. (Note that the loss used by the MLPclassifier may be different from the 0-1 loss, also called *accuracy*.)"
   ]
  },
  {
   "cell_type": "code",
   "execution_count": 11,
   "metadata": {},
   "outputs": [
    {
     "name": "stdout",
     "output_type": "stream",
     "text": [
      "{'hidden_layer_sizes': (100,)}\n",
      "Iteration 1, loss = 2.30018365\n",
      "Iteration 2, loss = 1.39003249\n",
      "Iteration 3, loss = 1.30866972\n",
      "Iteration 4, loss = 1.60606174\n",
      "Iteration 5, loss = 0.90757800\n",
      "Iteration 6, loss = 0.75832449\n",
      "Iteration 7, loss = 0.66623319\n",
      "Iteration 8, loss = 0.60253924\n",
      "Iteration 9, loss = 0.54741105\n",
      "Iteration 10, loss = 0.56389476\n",
      "Iteration 11, loss = 0.48056359\n",
      "Iteration 12, loss = 0.49921179\n",
      "Iteration 13, loss = 0.42300555\n",
      "Iteration 14, loss = 0.35429311\n",
      "Iteration 15, loss = 0.35160511\n",
      "Iteration 16, loss = 0.41606992\n",
      "Iteration 17, loss = 0.39537744\n",
      "Iteration 18, loss = 0.29538964\n",
      "Iteration 19, loss = 0.24930470\n",
      "Iteration 20, loss = 0.23740717\n",
      "Iteration 21, loss = 0.21815670\n",
      "Iteration 22, loss = 0.21583266\n",
      "Iteration 23, loss = 0.23651173\n",
      "Iteration 24, loss = 0.18653468\n",
      "Iteration 25, loss = 0.19999841\n",
      "Iteration 26, loss = 0.17022439\n",
      "Iteration 27, loss = 0.18324141\n",
      "Iteration 28, loss = 0.16757249\n",
      "Iteration 29, loss = 0.13185116\n",
      "Iteration 30, loss = 0.11540122\n",
      "Iteration 31, loss = 0.20458445\n",
      "Iteration 32, loss = 0.14617319\n",
      "Iteration 33, loss = 0.10436988\n",
      "Iteration 34, loss = 0.10459397\n",
      "Iteration 35, loss = 0.10577763\n",
      "Iteration 36, loss = 0.10879266\n",
      "Iteration 37, loss = 0.08543135\n",
      "Iteration 38, loss = 0.07846334\n",
      "Iteration 39, loss = 0.11821590\n",
      "Iteration 40, loss = 0.06232840\n",
      "Iteration 41, loss = 0.05685249\n",
      "Iteration 42, loss = 0.05290643\n",
      "Iteration 43, loss = 0.05118771\n",
      "Iteration 44, loss = 0.04997231\n",
      "Iteration 45, loss = 0.04451675\n",
      "Iteration 46, loss = 0.04989295\n",
      "Iteration 47, loss = 0.03978859\n",
      "Iteration 48, loss = 0.04463081\n",
      "Iteration 49, loss = 0.06621892\n",
      "Iteration 50, loss = 0.05060927\n",
      "Iteration 51, loss = 0.03374760\n",
      "Iteration 52, loss = 0.03233998\n",
      "Iteration 53, loss = 0.03032714\n",
      "Iteration 54, loss = 0.02686380\n",
      "Iteration 55, loss = 0.02766386\n",
      "Iteration 56, loss = 0.02275850\n",
      "Iteration 57, loss = 0.02223554\n",
      "Iteration 58, loss = 0.02078344\n",
      "Iteration 59, loss = 0.01972729\n",
      "Iteration 60, loss = 0.01970665\n",
      "Iteration 61, loss = 0.01856665\n",
      "Iteration 62, loss = 0.01887898\n",
      "Iteration 63, loss = 0.01953739\n",
      "Iteration 64, loss = 0.01636613\n",
      "Iteration 65, loss = 0.01568428\n",
      "Iteration 66, loss = 0.01546232\n",
      "Iteration 67, loss = 0.01587896\n",
      "Iteration 68, loss = 0.01462564\n",
      "Iteration 69, loss = 0.01428511\n",
      "Iteration 70, loss = 0.01391343\n",
      "Iteration 71, loss = 0.01292382\n",
      "Iteration 72, loss = 0.01382444\n",
      "Iteration 73, loss = 0.01235132\n",
      "Iteration 74, loss = 0.01227826\n",
      "Iteration 75, loss = 0.01171784\n",
      "Iteration 76, loss = 0.01128283\n",
      "Iteration 77, loss = 0.01110303\n",
      "Iteration 78, loss = 0.01065129\n",
      "Iteration 79, loss = 0.01057129\n",
      "Iteration 80, loss = 0.01061468\n",
      "Iteration 81, loss = 0.01067382\n",
      "Iteration 82, loss = 0.00972495\n",
      "Iteration 83, loss = 0.00963527\n",
      "Iteration 84, loss = 0.00937755\n",
      "Iteration 85, loss = 0.00908457\n",
      "Iteration 86, loss = 0.00889920\n",
      "Iteration 87, loss = 0.00877268\n",
      "Iteration 88, loss = 0.00847839\n",
      "Iteration 89, loss = 0.00845085\n",
      "Iteration 90, loss = 0.00819521\n",
      "Iteration 91, loss = 0.00829768\n",
      "Iteration 92, loss = 0.00813545\n",
      "Iteration 93, loss = 0.00811591\n",
      "Iteration 94, loss = 0.00767959\n",
      "Iteration 95, loss = 0.00751123\n",
      "Iteration 96, loss = 0.00740607\n",
      "Iteration 97, loss = 0.00718534\n",
      "Iteration 98, loss = 0.00722865\n",
      "Iteration 99, loss = 0.00717471\n",
      "Iteration 100, loss = 0.00727057\n",
      "Iteration 101, loss = 0.00680082\n",
      "Iteration 102, loss = 0.00661142\n",
      "Iteration 103, loss = 0.00652658\n",
      "Iteration 104, loss = 0.00638700\n",
      "Iteration 105, loss = 0.00628160\n",
      "Iteration 106, loss = 0.00627490\n",
      "Iteration 107, loss = 0.00615034\n",
      "Iteration 108, loss = 0.00598914\n",
      "Iteration 109, loss = 0.00596146\n",
      "Iteration 110, loss = 0.00582883\n",
      "Iteration 111, loss = 0.00578465\n",
      "Iteration 112, loss = 0.00566773\n",
      "Iteration 113, loss = 0.00558609\n",
      "Iteration 114, loss = 0.00549388\n",
      "Iteration 115, loss = 0.00543804\n",
      "Iteration 116, loss = 0.00541423\n",
      "Iteration 117, loss = 0.00529546\n",
      "Iteration 118, loss = 0.00525981\n",
      "Iteration 119, loss = 0.00514465\n",
      "Iteration 120, loss = 0.00513049\n",
      "Iteration 121, loss = 0.00511038\n",
      "Iteration 122, loss = 0.00499921\n",
      "Iteration 123, loss = 0.00490282\n",
      "Iteration 124, loss = 0.00487218\n",
      "Iteration 125, loss = 0.00482382\n",
      "Iteration 126, loss = 0.00471764\n",
      "Iteration 127, loss = 0.00465126\n",
      "Iteration 128, loss = 0.00463486\n",
      "Iteration 129, loss = 0.00460012\n",
      "Iteration 130, loss = 0.00452508\n",
      "Iteration 131, loss = 0.00444532\n",
      "Iteration 132, loss = 0.00448495\n",
      "Iteration 133, loss = 0.00437052\n",
      "Iteration 134, loss = 0.00432616\n",
      "Iteration 135, loss = 0.00436645\n",
      "Iteration 136, loss = 0.00426008\n",
      "Iteration 137, loss = 0.00424645\n",
      "Training loss did not improve more than tol=0.000100 for 10 consecutive epochs. Stopping.\n",
      "\n",
      "RESULTS FOR BEST NN\n",
      "\n",
      "Best NN training error: 0.000000\n",
      "Best NN test error: 0.228773\n"
     ]
    }
   ],
   "source": [
    "#get training and test error for the best NN model from CV\n",
    "print(mlp_cv.best_params_)\n",
    "mlp = MLPClassifier(hidden_layer_sizes = (100,), max_iter = 300, alpha = 1e-4, solver = 'sgd', tol = 1e-4, learning_rate_init =.1, verbose = True)\n",
    "mlp.fit(X_train, y_train)\n",
    "\n",
    "training_error = 1 - mlp.score(X_train, y_train)\n",
    "test_error = 1 - mlp.score(X_test, y_test)\n",
    "\n",
    "print ('\\nRESULTS FOR BEST NN\\n')\n",
    "print (\"Best NN training error: %f\" % training_error)\n",
    "print (\"Best NN test error: %f\" % test_error)"
   ]
  },
  {
   "cell_type": "markdown",
   "metadata": {},
   "source": [
    "## More data \n",
    "Now let's do the same but using 10000 (or less if it takes too long on your machine) data points for training. Use the same NN architectures as before, but you can try more if you want!"
   ]
  },
  {
   "cell_type": "code",
   "execution_count": 12,
   "metadata": {},
   "outputs": [
    {
     "name": "stdout",
     "output_type": "stream",
     "text": [
      "Labels and frequencies in training dataset: \n"
     ]
    },
    {
     "data": {
      "text/plain": [
       "(array([0, 1, 2, 3, 4, 5, 6, 7, 8, 9], dtype=uint8),\n",
       " array([1000,  949,  999, 1034,  974, 1041,  978, 1049, 1019,  957],\n",
       "       dtype=int64))"
      ]
     },
     "execution_count": 12,
     "metadata": {},
     "output_type": "execute_result"
    }
   ],
   "source": [
    "X = X[permutation]\n",
    "y = y[permutation]\n",
    "\n",
    "m_training = 10000\n",
    "\n",
    "X_train, X_test = X[:m_training], X[m_training:]\n",
    "y_train, y_test = y[:m_training], y[m_training:]\n",
    "\n",
    "print(\"Labels and frequencies in training dataset: \")\n",
    "np.unique(y_train, return_counts=True)"
   ]
  },
  {
   "cell_type": "markdown",
   "metadata": {},
   "source": [
    "## TO DO 4\n",
    "\n",
    "Now train the NNs with the added data points. Feel free to try more different architectures than before if you want, or less if it takes too much time. You can use 'verbose=True' so have an idea of how long it takes to run 1 iteration (eventually reduce also the number of iterations to 50)."
   ]
  },
  {
   "cell_type": "code",
   "execution_count": 17,
   "metadata": {},
   "outputs": [
    {
     "name": "stdout",
     "output_type": "stream",
     "text": [
      "RESULTS FOR NN\n",
      "\n",
      "Best parameters set found:\n",
      "{'hidden_layer_sizes': (150,)}\n",
      "Score with best parameters:\n",
      "0.8533000000000002\n",
      "All scores on the grid:\n",
      "[0.8345 0.841  0.8442 0.8476 0.8443 0.8445 0.8533]\n"
     ]
    }
   ],
   "source": [
    "#for NN we try the same architectures as before\n",
    "hl_parameters = {'hidden_layer_sizes': [(50,), (50,50,), (50,50,50,), (100,), (100,100,), (100,100,100), (150,)]}\n",
    "MLP = MLPClassifier(max_iter = 300, alpha = 1e-4, solver = 'sgd', tol = 1e-4, learning_rate_init =.1, verbose = False)\n",
    "mlp_large_cv = GridSearchCV(MLP,hl_parameters, cv = 5).fit(X_train, y_train)\n",
    "\n",
    "print ('RESULTS FOR NN\\n')\n",
    "print(\"Best parameters set found:\")\n",
    "print(mlp_large_cv.best_params_)\n",
    "print(\"Score with best parameters:\")\n",
    "print(mlp_large_cv.best_score_)\n",
    "print(\"All scores on the grid:\")\n",
    "print(mlp_large_cv.cv_results_['mean_test_score'])"
   ]
  },
  {
   "cell_type": "code",
   "execution_count": 18,
   "metadata": {},
   "outputs": [
    {
     "data": {
      "text/html": [
       "<div>\n",
       "<style scoped>\n",
       "    .dataframe tbody tr th:only-of-type {\n",
       "        vertical-align: middle;\n",
       "    }\n",
       "\n",
       "    .dataframe tbody tr th {\n",
       "        vertical-align: top;\n",
       "    }\n",
       "\n",
       "    .dataframe thead th {\n",
       "        text-align: right;\n",
       "    }\n",
       "</style>\n",
       "<table border=\"1\" class=\"dataframe\">\n",
       "  <thead>\n",
       "    <tr style=\"text-align: right;\">\n",
       "      <th></th>\n",
       "      <th>mean_fit_time</th>\n",
       "      <th>std_fit_time</th>\n",
       "      <th>mean_score_time</th>\n",
       "      <th>std_score_time</th>\n",
       "      <th>param_hidden_layer_sizes</th>\n",
       "      <th>params</th>\n",
       "      <th>split0_test_score</th>\n",
       "      <th>split1_test_score</th>\n",
       "      <th>split2_test_score</th>\n",
       "      <th>split3_test_score</th>\n",
       "      <th>split4_test_score</th>\n",
       "      <th>mean_test_score</th>\n",
       "      <th>std_test_score</th>\n",
       "      <th>rank_test_score</th>\n",
       "    </tr>\n",
       "  </thead>\n",
       "  <tbody>\n",
       "    <tr>\n",
       "      <th>0</th>\n",
       "      <td>12.003477</td>\n",
       "      <td>2.764803</td>\n",
       "      <td>0.007378</td>\n",
       "      <td>0.001009</td>\n",
       "      <td>(50,)</td>\n",
       "      <td>{'hidden_layer_sizes': (50,)}</td>\n",
       "      <td>0.8255</td>\n",
       "      <td>0.8295</td>\n",
       "      <td>0.8350</td>\n",
       "      <td>0.8430</td>\n",
       "      <td>0.8395</td>\n",
       "      <td>0.8345</td>\n",
       "      <td>0.006380</td>\n",
       "      <td>7</td>\n",
       "    </tr>\n",
       "    <tr>\n",
       "      <th>1</th>\n",
       "      <td>9.772814</td>\n",
       "      <td>2.619524</td>\n",
       "      <td>0.008776</td>\n",
       "      <td>0.000746</td>\n",
       "      <td>(50, 50)</td>\n",
       "      <td>{'hidden_layer_sizes': (50, 50)}</td>\n",
       "      <td>0.8395</td>\n",
       "      <td>0.8390</td>\n",
       "      <td>0.8400</td>\n",
       "      <td>0.8385</td>\n",
       "      <td>0.8480</td>\n",
       "      <td>0.8410</td>\n",
       "      <td>0.003536</td>\n",
       "      <td>6</td>\n",
       "    </tr>\n",
       "    <tr>\n",
       "      <th>2</th>\n",
       "      <td>11.369831</td>\n",
       "      <td>1.827449</td>\n",
       "      <td>0.009375</td>\n",
       "      <td>0.000489</td>\n",
       "      <td>(50, 50, 50)</td>\n",
       "      <td>{'hidden_layer_sizes': (50, 50, 50)}</td>\n",
       "      <td>0.8365</td>\n",
       "      <td>0.8355</td>\n",
       "      <td>0.8485</td>\n",
       "      <td>0.8475</td>\n",
       "      <td>0.8530</td>\n",
       "      <td>0.8442</td>\n",
       "      <td>0.006954</td>\n",
       "      <td>5</td>\n",
       "    </tr>\n",
       "    <tr>\n",
       "      <th>3</th>\n",
       "      <td>16.067303</td>\n",
       "      <td>2.198644</td>\n",
       "      <td>0.010172</td>\n",
       "      <td>0.000746</td>\n",
       "      <td>(100,)</td>\n",
       "      <td>{'hidden_layer_sizes': (100,)}</td>\n",
       "      <td>0.8515</td>\n",
       "      <td>0.8455</td>\n",
       "      <td>0.8450</td>\n",
       "      <td>0.8530</td>\n",
       "      <td>0.8430</td>\n",
       "      <td>0.8476</td>\n",
       "      <td>0.003917</td>\n",
       "      <td>2</td>\n",
       "    </tr>\n",
       "    <tr>\n",
       "      <th>4</th>\n",
       "      <td>15.414807</td>\n",
       "      <td>2.129146</td>\n",
       "      <td>0.013861</td>\n",
       "      <td>0.001114</td>\n",
       "      <td>(100, 100)</td>\n",
       "      <td>{'hidden_layer_sizes': (100, 100)}</td>\n",
       "      <td>0.8425</td>\n",
       "      <td>0.8345</td>\n",
       "      <td>0.8420</td>\n",
       "      <td>0.8530</td>\n",
       "      <td>0.8495</td>\n",
       "      <td>0.8443</td>\n",
       "      <td>0.006439</td>\n",
       "      <td>4</td>\n",
       "    </tr>\n",
       "    <tr>\n",
       "      <th>5</th>\n",
       "      <td>20.638911</td>\n",
       "      <td>5.773161</td>\n",
       "      <td>0.020743</td>\n",
       "      <td>0.004519</td>\n",
       "      <td>(100, 100, 100)</td>\n",
       "      <td>{'hidden_layer_sizes': (100, 100, 100)}</td>\n",
       "      <td>0.8340</td>\n",
       "      <td>0.8390</td>\n",
       "      <td>0.8420</td>\n",
       "      <td>0.8585</td>\n",
       "      <td>0.8490</td>\n",
       "      <td>0.8445</td>\n",
       "      <td>0.008521</td>\n",
       "      <td>3</td>\n",
       "    </tr>\n",
       "    <tr>\n",
       "      <th>6</th>\n",
       "      <td>33.191749</td>\n",
       "      <td>1.468470</td>\n",
       "      <td>0.016755</td>\n",
       "      <td>0.001465</td>\n",
       "      <td>(150,)</td>\n",
       "      <td>{'hidden_layer_sizes': (150,)}</td>\n",
       "      <td>0.8480</td>\n",
       "      <td>0.8470</td>\n",
       "      <td>0.8515</td>\n",
       "      <td>0.8665</td>\n",
       "      <td>0.8535</td>\n",
       "      <td>0.8533</td>\n",
       "      <td>0.007004</td>\n",
       "      <td>1</td>\n",
       "    </tr>\n",
       "  </tbody>\n",
       "</table>\n",
       "</div>"
      ],
      "text/plain": [
       "   mean_fit_time  std_fit_time  mean_score_time  std_score_time  \\\n",
       "0      12.003477      2.764803         0.007378        0.001009   \n",
       "1       9.772814      2.619524         0.008776        0.000746   \n",
       "2      11.369831      1.827449         0.009375        0.000489   \n",
       "3      16.067303      2.198644         0.010172        0.000746   \n",
       "4      15.414807      2.129146         0.013861        0.001114   \n",
       "5      20.638911      5.773161         0.020743        0.004519   \n",
       "6      33.191749      1.468470         0.016755        0.001465   \n",
       "\n",
       "  param_hidden_layer_sizes                                   params  \\\n",
       "0                    (50,)            {'hidden_layer_sizes': (50,)}   \n",
       "1                 (50, 50)         {'hidden_layer_sizes': (50, 50)}   \n",
       "2             (50, 50, 50)     {'hidden_layer_sizes': (50, 50, 50)}   \n",
       "3                   (100,)           {'hidden_layer_sizes': (100,)}   \n",
       "4               (100, 100)       {'hidden_layer_sizes': (100, 100)}   \n",
       "5          (100, 100, 100)  {'hidden_layer_sizes': (100, 100, 100)}   \n",
       "6                   (150,)           {'hidden_layer_sizes': (150,)}   \n",
       "\n",
       "   split0_test_score  split1_test_score  split2_test_score  split3_test_score  \\\n",
       "0             0.8255             0.8295             0.8350             0.8430   \n",
       "1             0.8395             0.8390             0.8400             0.8385   \n",
       "2             0.8365             0.8355             0.8485             0.8475   \n",
       "3             0.8515             0.8455             0.8450             0.8530   \n",
       "4             0.8425             0.8345             0.8420             0.8530   \n",
       "5             0.8340             0.8390             0.8420             0.8585   \n",
       "6             0.8480             0.8470             0.8515             0.8665   \n",
       "\n",
       "   split4_test_score  mean_test_score  std_test_score  rank_test_score  \n",
       "0             0.8395           0.8345        0.006380                7  \n",
       "1             0.8480           0.8410        0.003536                6  \n",
       "2             0.8530           0.8442        0.006954                5  \n",
       "3             0.8430           0.8476        0.003917                2  \n",
       "4             0.8495           0.8443        0.006439                4  \n",
       "5             0.8490           0.8445        0.008521                3  \n",
       "6             0.8535           0.8533        0.007004                1  "
      ]
     },
     "execution_count": 18,
     "metadata": {},
     "output_type": "execute_result"
    }
   ],
   "source": [
    "pd.DataFrame(mlp_large_cv.cv_results_)"
   ]
  },
  {
   "cell_type": "markdown",
   "metadata": {},
   "source": [
    "## TO DO 5\n",
    "Describe your architecture choices and the results you observe with respect to the architectures you used.\n",
    "\n",
    "I decided first of all to discard the NN with (10,) (10,10) hidden layers for sure on a larger sample size the NN ones have worse results than the others.\n",
    "So I keep the same as before and add three new ones with (50, 50, 50) and (100, 100, 100) and (150,).\n",
    "In this case the results of the NNs are quite similar for each subdivision, and looking at the average scores I can see the importance, as before, of the number of neurons on the layer instead of the numbers of the hidden layers. Also, the double number of samples helps a lot looking at the NN mean_score with (50,0), in the test with 500 samples it gets 0,754, and in case, with 1000 samples it gets 0,8345 a huge improvement of 0,08 (I can repeat for all the other NNs this simple analysis). Hence, data also plays an important role.\n",
    "But as I expected, the best mean_score is achieved by the NN with the largest number of neurons on the hidden layer."
   ]
  },
  {
   "cell_type": "markdown",
   "metadata": {},
   "source": [
    "## TO DO 6\n",
    "\n",
    "Get the train and test error for the best NN you obtained with 10000 points. This time you can run for 100 iterations if you cannot run for 300 iterations. \n"
   ]
  },
  {
   "cell_type": "code",
   "execution_count": 20,
   "metadata": {},
   "outputs": [
    {
     "name": "stdout",
     "output_type": "stream",
     "text": [
      "RESULTS FOR BEST NN\n",
      "\n",
      "Best NN training error: 0.000000\n",
      "Best NN test error: 0.135140\n"
     ]
    }
   ],
   "source": [
    "#get training and test error for the best NN model from CV\n",
    "\n",
    "best_mlp_large = MLPClassifier(hidden_layer_sizes = (150,), max_iter = 300, alpha = 1e-4, solver = 'sgd', tol = 1e-4, learning_rate_init =.1)\n",
    "best_mlp_large.fit(X_train, y_train)\n",
    "\n",
    "training_error = 1 - best_mlp_large.score(X_train, y_train)\n",
    "test_error = 1 - best_mlp_large.score(X_test, y_test)\n",
    "\n",
    "print ('RESULTS FOR BEST NN\\n')\n",
    "print (\"Best NN training error: %f\" % training_error)\n",
    "print (\"Best NN test error: %f\" % test_error)"
   ]
  },
  {
   "cell_type": "markdown",
   "metadata": {},
   "source": [
    "## TO DO 7\n",
    "\n",
    "Compare the train and test error you got with a large number of samples with the best one you obtained with only 500 data points. Are the architectures the same or do they differ? What about the errors you get?"
   ]
  },
  {
   "cell_type": "markdown",
   "metadata": {},
   "source": [
    "I'm comparing the NN with 500 samples with hidden level (100,) and the other with 1000 samples with hidden level (150,).\n",
    "Now, looking at the results I have that the training error goes to 0 in both cases, and this is normal. But looking at the test error, the NN evaluated on the 500 samples gets a score of 0.22 on the test error and the NN evaluated on the 1000 samples gets 0.13 with a difference of 0.09. this is pretty big in terms of the NN's performance.\n",
    "This leads to the conclusion that the number of samples is really important.\n",
    "I could try to use a huge number of neurons but for sure I can't get much better results than what I have already achieved.\n"
   ]
  },
  {
   "cell_type": "markdown",
   "metadata": {},
   "source": [
    "## TO DO 8\n",
    "\n",
    "Plot an image that was missclassified by NN with m=500 training data points and it is now instead correctly classified by NN with m=10000 training data points."
   ]
  },
  {
   "cell_type": "code",
   "execution_count": 15,
   "metadata": {},
   "outputs": [
    {
     "name": "stdout",
     "output_type": "stream",
     "text": [
      "INPUT:\n"
     ]
    },
    {
     "data": {
      "image/png": "[encoded data removed]",
      "text/plain": [
       "<Figure size 432x288 with 1 Axes>"
      ]
     },
     "metadata": {
      "needs_background": "light"
     },
     "output_type": "display_data"
    },
    {
     "name": "stdout",
     "output_type": "stream",
     "text": [
      "LABEL: 6\n"
     ]
    }
   ],
   "source": [
    "for i in range(len(y_test)):\n",
    "    if best_mlp_large.predict(X_test)[i] == y_test[i]:\n",
    "        if mlp.predict(X_test)[i] != y_test[i]:\n",
    "            plot_input(X_test,y_test,i)\n",
    "            break"
   ]
  },
  {
   "cell_type": "markdown",
   "metadata": {},
   "source": [
    "Let's plot some of the weigths of the multi-layer perceptron classifier, for the best NN we get with 500 data points and with 10000 data points. The code below plots the weights in a matrix form, where a figure represents all the weights of the edges entering in a hidden node. Notice that the code assumes that the NNs are called \"mlp\" and \"best_mlp_large\": you may need to replace such variables with your variable names. \n",
    "\n"
   ]
  },
  {
   "cell_type": "code",
   "execution_count": 16,
   "metadata": {},
   "outputs": [
    {
     "name": "stdout",
     "output_type": "stream",
     "text": [
      "Weights with 500 data points:\n"
     ]
    },
    {
     "data": {
      "image/png": "[encoded data removed]",
      "text/plain": [
       "<Figure size 432x288 with 16 Axes>"
      ]
     },
     "metadata": {},
     "output_type": "display_data"
    },
    {
     "name": "stdout",
     "output_type": "stream",
     "text": [
      "Weights with 10000 data points:\n"
     ]
    },
    {
     "data": {
      "image/png": "[encoded data removed]",
      "text/plain": [
       "<Figure size 432x288 with 16 Axes>"
      ]
     },
     "metadata": {},
     "output_type": "display_data"
    }
   ],
   "source": [
    "print(\"Weights with 500 data points:\")\n",
    "\n",
    "fig, axes = plt.subplots(4, 4)\n",
    "vmin, vmax = mlp.coefs_[0].min(), mlp.coefs_[0].max()\n",
    "for coef, ax in zip(mlp.coefs_[0].T, axes.ravel()):\n",
    "    ax.matshow(coef.reshape(28, 28), cmap=plt.cm.gray, vmin=.5 * vmin, vmax=.5 * vmax)\n",
    "    ax.set_xticks(())\n",
    "    ax.set_yticks(())\n",
    "\n",
    "plt.show()\n",
    "\n",
    "print(\"Weights with 10000 data points:\")\n",
    "\n",
    "fig, axes = plt.subplots(4, 4)\n",
    "vmin, vmax = best_mlp_large.coefs_[0].min(), best_mlp_large.coefs_[0].max()\n",
    "for coef, ax in zip(best_mlp_large.coefs_[0].T, axes.ravel()):\n",
    "    ax.matshow(coef.reshape(28, 28), cmap=plt.cm.gray, vmin=.5 * vmin, vmax=.5 * vmax)\n",
    "    ax.set_xticks(())\n",
    "    ax.set_yticks(())\n",
    "plt.show()"
   ]
  },
  {
   "cell_type": "markdown",
   "metadata": {},
   "source": [
    "## TO DO 9\n",
    "\n",
    "Describe what do you observe by looking at the weights.\n",
    "\n",
    "It seems that the weights of the NN evaluated on 500 are noisier, but on the other part, the weights evaluated on 1000 samples seem denser, more detailed and probably capture better features to distinguish the clothes."
   ]
  },
  {
   "cell_type": "markdown",
   "metadata": {},
   "source": [
    "## TO DO 10\n",
    "\n",
    "Pick another classifier among the ones we have seen previously (SVM or something else). Report the training and test error for such classifier with 10000 samples in the training set, if possible; if the classifier cannot run with so many data sample reduce the number of samples.\n",
    "\n",
    "*Note*: if there are parameters to be optimized use cross-validation. If you choose SVM, you can decide if you want to use a single kernel or use the best among many; in the latter case, you need to pick the best kernel using cross-validation (using the functions available in sklearn).\n",
    "\n",
    "**[WRITE HERE WHAT CLASSIFIER YOU ARE CHOOSING AND WHAT PARAMETERS YOU NEED TO SET.]**"
   ]
  },
  {
   "cell_type": "code",
   "execution_count": 25,
   "metadata": {},
   "outputs": [
    {
     "name": "stderr",
     "output_type": "stream",
     "text": [
      "C:\\Users\\Piermarco\\anaconda3\\lib\\site-packages\\sklearn\\svm\\_base.py:255: ConvergenceWarning: Solver terminated early (max_iter=1000).  Consider pre-processing your data with StandardScaler or MinMaxScaler.\n",
      "  warnings.warn('Solver terminated early (max_iter=%i).'\n",
      "C:\\Users\\Piermarco\\anaconda3\\lib\\site-packages\\sklearn\\svm\\_base.py:255: ConvergenceWarning: Solver terminated early (max_iter=1000).  Consider pre-processing your data with StandardScaler or MinMaxScaler.\n",
      "  warnings.warn('Solver terminated early (max_iter=%i).'\n",
      "C:\\Users\\Piermarco\\anaconda3\\lib\\site-packages\\sklearn\\svm\\_base.py:255: ConvergenceWarning: Solver terminated early (max_iter=1000).  Consider pre-processing your data with StandardScaler or MinMaxScaler.\n",
      "  warnings.warn('Solver terminated early (max_iter=%i).'\n",
      "C:\\Users\\Piermarco\\anaconda3\\lib\\site-packages\\sklearn\\svm\\_base.py:255: ConvergenceWarning: Solver terminated early (max_iter=1000).  Consider pre-processing your data with StandardScaler or MinMaxScaler.\n",
      "  warnings.warn('Solver terminated early (max_iter=%i).'\n",
      "C:\\Users\\Piermarco\\anaconda3\\lib\\site-packages\\sklearn\\svm\\_base.py:255: ConvergenceWarning: Solver terminated early (max_iter=1000).  Consider pre-processing your data with StandardScaler or MinMaxScaler.\n",
      "  warnings.warn('Solver terminated early (max_iter=%i).'\n",
      "C:\\Users\\Piermarco\\anaconda3\\lib\\site-packages\\sklearn\\svm\\_base.py:255: ConvergenceWarning: Solver terminated early (max_iter=1000).  Consider pre-processing your data with StandardScaler or MinMaxScaler.\n",
      "  warnings.warn('Solver terminated early (max_iter=%i).'\n"
     ]
    }
   ],
   "source": [
    "m_training = 10000\n",
    "X_train, X_test = X[:m_training], X[m_training:]\n",
    "y_train, y_test = y[:m_training], y[m_training:]\n",
    "\n",
    "param = {'kernel': ['linear', 'rbf'],\n",
    "         'max_iter': [1000]}\n",
    "SVM = GridSearchCV(SVC(), param , cv = 5).fit(X_train, y_train)"
   ]
  },
  {
   "cell_type": "code",
   "execution_count": 26,
   "metadata": {},
   "outputs": [
    {
     "data": {
      "text/html": [
       "<div>\n",
       "<style scoped>\n",
       "    .dataframe tbody tr th:only-of-type {\n",
       "        vertical-align: middle;\n",
       "    }\n",
       "\n",
       "    .dataframe tbody tr th {\n",
       "        vertical-align: top;\n",
       "    }\n",
       "\n",
       "    .dataframe thead th {\n",
       "        text-align: right;\n",
       "    }\n",
       "</style>\n",
       "<table border=\"1\" class=\"dataframe\">\n",
       "  <thead>\n",
       "    <tr style=\"text-align: right;\">\n",
       "      <th></th>\n",
       "      <th>mean_fit_time</th>\n",
       "      <th>std_fit_time</th>\n",
       "      <th>mean_score_time</th>\n",
       "      <th>std_score_time</th>\n",
       "      <th>param_kernel</th>\n",
       "      <th>param_max_iter</th>\n",
       "      <th>params</th>\n",
       "      <th>split0_test_score</th>\n",
       "      <th>split1_test_score</th>\n",
       "      <th>split2_test_score</th>\n",
       "      <th>split3_test_score</th>\n",
       "      <th>split4_test_score</th>\n",
       "      <th>mean_test_score</th>\n",
       "      <th>std_test_score</th>\n",
       "      <th>rank_test_score</th>\n",
       "    </tr>\n",
       "  </thead>\n",
       "  <tbody>\n",
       "    <tr>\n",
       "      <th>0</th>\n",
       "      <td>3.852335</td>\n",
       "      <td>0.201252</td>\n",
       "      <td>2.431329</td>\n",
       "      <td>0.367385</td>\n",
       "      <td>linear</td>\n",
       "      <td>1000</td>\n",
       "      <td>{'kernel': 'linear', 'max_iter': 1000}</td>\n",
       "      <td>0.8055</td>\n",
       "      <td>0.813</td>\n",
       "      <td>0.8240</td>\n",
       "      <td>0.8065</td>\n",
       "      <td>0.7720</td>\n",
       "      <td>0.8042</td>\n",
       "      <td>0.017397</td>\n",
       "      <td>2</td>\n",
       "    </tr>\n",
       "    <tr>\n",
       "      <th>1</th>\n",
       "      <td>5.888369</td>\n",
       "      <td>0.351034</td>\n",
       "      <td>4.878483</td>\n",
       "      <td>0.148646</td>\n",
       "      <td>rbf</td>\n",
       "      <td>1000</td>\n",
       "      <td>{'kernel': 'rbf', 'max_iter': 1000}</td>\n",
       "      <td>0.8680</td>\n",
       "      <td>0.872</td>\n",
       "      <td>0.8485</td>\n",
       "      <td>0.8730</td>\n",
       "      <td>0.8555</td>\n",
       "      <td>0.8634</td>\n",
       "      <td>0.009713</td>\n",
       "      <td>1</td>\n",
       "    </tr>\n",
       "  </tbody>\n",
       "</table>\n",
       "</div>"
      ],
      "text/plain": [
       "   mean_fit_time  std_fit_time  mean_score_time  std_score_time param_kernel  \\\n",
       "0       3.852335      0.201252         2.431329        0.367385       linear   \n",
       "1       5.888369      0.351034         4.878483        0.148646          rbf   \n",
       "\n",
       "  param_max_iter                                  params  split0_test_score  \\\n",
       "0           1000  {'kernel': 'linear', 'max_iter': 1000}             0.8055   \n",
       "1           1000     {'kernel': 'rbf', 'max_iter': 1000}             0.8680   \n",
       "\n",
       "   split1_test_score  split2_test_score  split3_test_score  split4_test_score  \\\n",
       "0              0.813             0.8240             0.8065             0.7720   \n",
       "1              0.872             0.8485             0.8730             0.8555   \n",
       "\n",
       "   mean_test_score  std_test_score  rank_test_score  \n",
       "0           0.8042        0.017397                2  \n",
       "1           0.8634        0.009713                1  "
      ]
     },
     "execution_count": 26,
     "metadata": {},
     "output_type": "execute_result"
    }
   ],
   "source": [
    "pd.DataFrame(SVM.cv_results_)"
   ]
  },
  {
   "cell_type": "code",
   "execution_count": 33,
   "metadata": {},
   "outputs": [
    {
     "name": "stdout",
     "output_type": "stream",
     "text": [
      "{'kernel': 'rbf', 'max_iter': 1000}\n"
     ]
    },
    {
     "name": "stderr",
     "output_type": "stream",
     "text": [
      "C:\\Users\\Piermarco\\anaconda3\\lib\\site-packages\\sklearn\\svm\\_base.py:255: ConvergenceWarning: Solver terminated early (max_iter=1000).  Consider pre-processing your data with StandardScaler or MinMaxScaler.\n",
      "  warnings.warn('Solver terminated early (max_iter=%i).'\n"
     ]
    },
    {
     "name": "stdout",
     "output_type": "stream",
     "text": [
      "RESULTS FOR OTHER CLASSIFIER\n",
      "\n",
      "Best training error (other model): 0.098300\n",
      "Best test error (other model): 0.136800\n"
     ]
    }
   ],
   "source": [
    "print(SVM.best_params_)\n",
    "SVC_f = SVC(kernel = 'rbf', max_iter = 1000).fit(X_train, y_train)\n",
    "\n",
    "training_error_other = 1 - SVC_f.score(X_train,y_train)\n",
    "test_error_other = 1 - SVC_f.score(X_test, y_test)\n",
    "\n",
    "print ('RESULTS FOR OTHER CLASSIFIER\\n')\n",
    "print (\"Best training error (other model): %f\" % training_error_other)\n",
    "print (\"Best test error (other model): %f\" % test_error_other)"
   ]
  },
  {
   "cell_type": "markdown",
   "metadata": {},
   "source": [
    "## TO DO 11\n",
    "Compare the results of NN and of the other classifier you have chosen above. Which classifier would you preferer? Provide a brief explanation."
   ]
  },
  {
   "cell_type": "markdown",
   "metadata": {},
   "source": [
    "[ADD YOUR ANSWER HERE]\n",
    "Comparing the result of the 2 classifier they have almost the same test score around 0.13, so if i had to chose from the two model there isn't any difference. But if I have to chose in terms of best classifier It's for sure the NN because I evaluated the SVM on 10000 samples and I got 0.13 of test error, If I will evaluate my NN with 10000 samples I will get for sure a better test score of 0.13.\n",
    "So in this task the NN perform better then the SVM."
   ]
  },
  {
   "cell_type": "markdown",
   "metadata": {},
   "source": [
    "# Clustering with K-means\n",
    "\n",
    "Clustering is a useful technique for *unsupervised* learning. We are now going to cluster 2000 images in the fashion MNIST dataset, and try to understand if the clusters we obtain correspond to the true labels."
   ]
  },
  {
   "cell_type": "code",
   "execution_count": 34,
   "metadata": {},
   "outputs": [],
   "source": [
    "#load the required packages\n",
    "from sklearn import metrics\n",
    "from sklearn.cluster import KMeans"
   ]
  },
  {
   "cell_type": "markdown",
   "metadata": {},
   "source": [
    "(Note that the code below assumes that the data has already been transformed as in the NN part of the notebook, so make sure to run the code for the transformation even if you do not complete the part on NN.)"
   ]
  },
  {
   "cell_type": "code",
   "execution_count": 35,
   "metadata": {},
   "outputs": [],
   "source": [
    "#let's consider only 2000 data points\n",
    "\n",
    "X = X[permutation]\n",
    "y = y[permutation]\n",
    "\n",
    "m_training = 2000\n",
    "\n",
    "X_train, X_test = X[:m_training], X[m_training:]\n",
    "y_train, y_test = y[:m_training], y[m_training:]"
   ]
  },
  {
   "cell_type": "markdown",
   "metadata": {},
   "source": [
    "## TO DO 1\n",
    "Cluster the points using the KMeans() and fit() functions (see the userguide for details). For Kmeans, set: n_clusters=10 as number of clusters; n_init=10 as the number of times the algorithm will be run with different centroid seeds; random_state = ID. You can use the default setting for the other parameters."
   ]
  },
  {
   "cell_type": "code",
   "execution_count": 36,
   "metadata": {},
   "outputs": [
    {
     "data": {
      "text/plain": [
       "KMeans(n_clusters=10, random_state=2056755)"
      ]
     },
     "execution_count": 36,
     "metadata": {},
     "output_type": "execute_result"
    }
   ],
   "source": [
    "kmeans = KMeans(n_clusters = 10, n_init = 10, random_state= ID)\n",
    "kmeans.fit(X_train)"
   ]
  },
  {
   "cell_type": "markdown",
   "metadata": {},
   "source": [
    "## Comparison of clusters with true labels"
   ]
  },
  {
   "cell_type": "markdown",
   "metadata": {},
   "source": [
    "## TO DO 2\n",
    "Now compare the obtained clusters with the true labels, using the function sklearn.metrics.cluster.contingency_matrix() (see the userguide for details). The function prints a matrix $A$ such that entry $A_{i,j}$ is is the number of samples in true class $i$ and in predicted class $j$."
   ]
  },
  {
   "cell_type": "code",
   "execution_count": 37,
   "metadata": {},
   "outputs": [
    {
     "name": "stdout",
     "output_type": "stream",
     "text": [
      "[[ 12 103   4  66   6   1   0   0   0   1]\n",
      " [  5   5 175   4   2   0   0   0   0   1]\n",
      " [ 12   5   0  59 133   3   0   0   0   0]\n",
      " [ 16  49 113  21   4   0   0   0   0   0]\n",
      " [ 10  26   5  37 127   2   0   0   0   0]\n",
      " [134   0   0   0   0   0  15  12  47   0]\n",
      " [ 15  29   0  84  63   1   0   0   0   1]\n",
      " [ 23   0   0   0   0   0  25   1 155   0]\n",
      " [ 14   1   0   8   5  76   6   0   7  76]\n",
      " [  4   0   0   1   0   0  85  99   5   1]]\n"
     ]
    }
   ],
   "source": [
    "# compute and print the contingency matrix for the true labels vs the clustering assignments\n",
    "prediction = kmeans.predict(X_train)\n",
    "print(sklearn.metrics.cluster.contingency_matrix(y_train, prediction))\n",
    "#The row indicate that there are 10 samples whose true cluster is in \"0\". Of them 6 samples in 0, 1 samples in 1 ecc"
   ]
  },
  {
   "cell_type": "markdown",
   "metadata": {},
   "source": [
    "## TO DO 3\n",
    "Based on the matrix shown above, comment on the results of clustering in terms of adherence to the true labels.\n",
    "\n",
    "For this problem the clustering does not seem to work very well I expect the highest values to be arranged along the diagonal, where they are correctly labeled.\n",
    "However, from the matrix it can be seen how the data follows the diagonal of the matrix but many examples are miss labeled.\n"
   ]
  },
  {
   "cell_type": "markdown",
   "metadata": {},
   "source": [
    "## Choice of k with silhoutte coefficient\n",
    "In many real applications it is unclear what is the correct value of $k$ to use. In practice one tries different values of $k$ and then uses some external score to choose a value of $k$. One such score is the silhoutte coefficient, that can be computed with metrics.silhouette_score(). See the definition of the silhoutte coefficient in the userguide."
   ]
  },
  {
   "cell_type": "markdown",
   "metadata": {},
   "source": [
    "## TO DO 4\n",
    "Compute the clustering for k=2,3,...,15 (other parameters as above) and print the silhoutte coefficient for each such clustering."
   ]
  },
  {
   "cell_type": "code",
   "execution_count": 44,
   "metadata": {},
   "outputs": [
    {
     "name": "stdout",
     "output_type": "stream",
     "text": [
      "Silhoutte coefficient for number of clusters=2: 0.19265739147474187\n",
      "Silhoutte coefficient for number of clusters=3: 0.18431172488176648\n",
      "Silhoutte coefficient for number of clusters=4: 0.18064209058718655\n",
      "Silhoutte coefficient for number of clusters=5: 0.15981174520542404\n",
      "Silhoutte coefficient for number of clusters=6: 0.1592124998578591\n",
      "Silhoutte coefficient for number of clusters=7: 0.16957584893142064\n",
      "Silhoutte coefficient for number of clusters=8: 0.157700363928842\n",
      "Silhoutte coefficient for number of clusters=9: 0.15529656154096597\n",
      "Silhoutte coefficient for number of clusters=10: 0.15446349484013988\n",
      "Silhoutte coefficient for number of clusters=11: 0.1407572543194251\n",
      "Silhoutte coefficient for number of clusters=12: 0.13716247441404142\n",
      "Silhoutte coefficient for number of clusters=13: 0.1346273101527629\n",
      "Silhoutte coefficient for number of clusters=14: 0.1327401127291011\n",
      "Silhoutte coefficient for number of clusters=15: 0.1207599738303772\n"
     ]
    }
   ],
   "source": [
    "#run k-means with 10 choices of initial centroids for a range of values of n_clusters\n",
    "\n",
    "for i in range(2,16):\n",
    "    kmeans = KMeans(n_clusters = i, n_init = 10, random_state= ID).fit(X_train, y_train)\n",
    "    silhouttescore = sklearn.metrics.silhouette_score(X_train, kmeans.labels_, metric='euclidean')\n",
    "    print(\"Silhoutte coefficient for number of clusters=\"+str(i)+\": \"+str(silhouttescore))"
   ]
  },
  {
   "cell_type": "markdown",
   "metadata": {},
   "source": [
    "## TO DO 5\n",
    "\n",
    "Based on the silhoutte score, which $k$ would you pick? Motivate your choice. Does your choice match what you know about the data? If yes, explain why you think this is the case; if no, explain what you think may be the reason."
   ]
  },
  {
   "cell_type": "markdown",
   "metadata": {},
   "source": [
    "[ADD YOUR ANSWER HERE]"
   ]
  }
 ],
 "metadata": {
  "kernelspec": {
   "display_name": "Python 3",
   "language": "python",
   "name": "python3"
  },
  "language_info": {
   "codemirror_mode": {
    "name": "ipython",
    "version": 3
   },
   "file_extension": ".py",
   "mimetype": "text/x-python",
   "name": "python",
   "nbconvert_exporter": "python",
   "pygments_lexer": "ipython3",
   "version": "3.8.8"
  }
 },
 "nbformat": 4,
 "nbformat_minor": 4
}
