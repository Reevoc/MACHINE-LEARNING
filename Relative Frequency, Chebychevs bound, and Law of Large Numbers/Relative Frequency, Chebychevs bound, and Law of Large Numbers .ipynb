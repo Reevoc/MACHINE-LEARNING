{
 "cells": [
  {
   "cell_type": "markdown",
   "metadata": {},
   "source": [
    "# Relative Frequency, Chebychev's bound, and Law of Large Numbers \n",
    "In this notebook we show empirically that the relative frequency for a Bernoulli random variable converges to the probability of success ($p = Pr[X_i=1]$) and compare the rate of convergence with the one given by Chebyshev's inequality"
   ]
  },
  {
   "cell_type": "code",
   "execution_count": 1,
   "metadata": {},
   "outputs": [],
   "source": [
    "#importing some useful packages\n",
    "#NumPy(http://www.numpy.org): useful for scientific computing, provides array objects, etc.\n",
    "import numpy as np\n",
    "#Matplotlib(https://matplotlib.org):  2D plotting library\n",
    "import matplotlib.pyplot as plt\n",
    "#package for random number generators and other useful \"random\" stuff\n",
    "import random as rnd\n",
    "#package with some default math functions\n",
    "import math"
   ]
  },
  {
   "cell_type": "markdown",
   "metadata": {},
   "source": [
    "The comments can also be in the notebook, **they may look better**"
   ]
  },
  {
   "cell_type": "code",
   "execution_count": 4,
   "metadata": {},
   "outputs": [
    {
     "data": {
      "image/png": "[encoded data removed]",
      "text/plain": [
       "<Figure size 432x288 with 1 Axes>"
      ]
     },
     "metadata": {
      "needs_background": "light"
     },
     "output_type": "display_data"
    }
   ],
   "source": [
    "#the following is to have matplotlib graphs included in your notebook, next to the code\n",
    "%matplotlib inline\n",
    "\n",
    "#First: we compute the relative frequency for the series of i.i.d. Bernoulli r.v.\n",
    "\n",
    "#parameter p of the Bernoulli r.v. B(p) (p=Pr[X=1])\n",
    "p=0.3\n",
    "\n",
    "#consider max_n B(p) r.v.'s\n",
    "max_n = 10000\n",
    "\n",
    "#generate random Bernoulli r.v.'s and then compute relative frequency. curr_sum\n",
    "#will count the number of success after the trials\n",
    "curr_sum = 0.0\n",
    "\n",
    "#rel_freq_seq[i] = relative frequency of event \"success\" (i.e.,X=1) after i+1 trials\n",
    "#initialize at 0\n",
    "rel_freq_seq = np.zeros(max_n)\n",
    "\n",
    "#curr_n[i] is the number of trials corresponding to index i in rel_freq_set, that is:\n",
    "#curr_n[i]=i+1\n",
    "#initialize at 0\n",
    "curr_n = np.zeros(max_n)\n",
    "\n",
    "#compute the bound given by Chebyshev's using fixed probability prob\n",
    "prob = 0.05\n",
    "\n",
    "#we use Chebychev to obtain an upper bound that holds with probability >= 1-prob on\n",
    "#the number of successes\n",
    "Cheby_upper_bound = np.zeros(max_n)\n",
    "\n",
    "#analogously, we use Chebychev to obtain an upper bound that holds with\n",
    "#probability >= 1-prob on the number of successes\n",
    "Cheby_lower_bound = np.zeros(max_n)\n",
    "\n",
    "for i in range(max_n):\n",
    "    curr_n[i] = i+1.\n",
    "\n",
    "    #simulate a Bernoulli random variable, we generate a random number between 0 and 1...\n",
    "    rand_val = rnd.random()\n",
    "    \n",
    "    #...if the generated value is <=p...\n",
    "    if rand_val <= p:\n",
    "    \n",
    "        #...then we say that we have a success. In this way, the probability of\n",
    "        #success is exactly p (the parameter of the Bernoulli)\n",
    "        curr_sum += 1.\n",
    "\n",
    "    #update the relative frequency\n",
    "    rel_freq_seq[i] = curr_sum / float(i+1)\n",
    "    \n",
    "    #compute the next point in the Chebychev bound\n",
    "    Cheby_bound = math.sqrt(p*(1-p)/((i+1)*prob))\n",
    "    \n",
    "    #obtain the upper bound\n",
    "    Cheby_upper_bound[i] = p+Cheby_bound\n",
    "    \n",
    "    #obtain the lower bound\n",
    "    Cheby_lower_bound[i] = p-Cheby_bound\n",
    "\n",
    "\n",
    "#now plot the relative frequency as a function of the number of r.v. considered\n",
    "plt.plot(curr_n, rel_freq_seq,'xb')\n",
    "\n",
    "#to obtain control on the axis of the figure, so to customize laberls, limits, etc.\n",
    "ax1 = plt.gca()\n",
    "\n",
    "#set limit on x-axis\n",
    "ax1.set_xlim(0, max_n)\n",
    "\n",
    "#set limit on y-axis\n",
    "ax1.set_ylim(-0.1, 1.1)\n",
    "\n",
    "#title of the plot\n",
    "plt.title(\"Convergence of relative frequency to probability for sum of Bernoulli r.v.'s\")\n",
    "\n",
    "#label of x axis\n",
    "plt.xlabel(\"n\")\n",
    "\n",
    "#label of y axis\n",
    "plt.ylabel('relative frequency')\n",
    "\n",
    "#now plot the correct value of p, just for reference\n",
    "lines = plt.plot([0.0, max_n],[p, p],'r:')\n",
    "\n",
    "#change the width of the plotted line\n",
    "plt.setp(lines, linewidth=2)\n",
    "\n",
    "#plot the values from Chebychev's upper bound\n",
    "lines = plt.plot(curr_n,Cheby_upper_bound,'k:')\n",
    "\n",
    "#change the width of the plotted line\n",
    "plt.setp(lines, linewidth=2)\n",
    "\n",
    "#plot the values from Chebychev's upper bound\n",
    "lines = plt.plot(curr_n,Cheby_lower_bound,'k:')\n",
    "\n",
    "#change the width of the plotted line\n",
    "plt.setp(lines, linewidth=2)\n",
    "\n",
    "#add the personalized legend\n",
    "plt.legend(['relative frequency','p = Pr[X=1]','bounds by Chebychev\\'s'])\n",
    "\n",
    "#show the figure\n",
    "plt.show()"
   ]
  },
  {
   "cell_type": "code",
   "execution_count": null,
   "metadata": {},
   "outputs": [],
   "source": []
  }
 ],
 "metadata": {
  "anaconda-cloud": {},
  "kernelspec": {
   "display_name": "Python 3",
   "language": "python",
   "name": "python3"
  },
  "language_info": {
   "codemirror_mode": {
    "name": "ipython",
    "version": 3
   },
   "file_extension": ".py",
   "mimetype": "text/x-python",
   "name": "python",
   "nbconvert_exporter": "python",
   "pygments_lexer": "ipython3",
   "version": "3.8.3"
  }
 },
 "nbformat": 4,
 "nbformat_minor": 4
}
