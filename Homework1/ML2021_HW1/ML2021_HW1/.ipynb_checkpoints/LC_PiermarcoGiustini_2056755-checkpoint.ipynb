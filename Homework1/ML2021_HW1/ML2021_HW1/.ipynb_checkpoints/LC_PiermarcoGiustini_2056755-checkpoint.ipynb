{
 "cells": [
  {
   "cell_type": "markdown",
   "metadata": {},
   "source": [
    "# Classification on Wine Dataset\n",
    "\n",
    "## IMPORTANT: make sure to rerun all the code from the beginning to obtain the results for the final version of your notebook, since this is the way we will do it before evaluting your notebook!!!\n",
    "\n",
    "### Dataset description\n",
    "\n",
    "We will be working with a dataset on wines from the UCI machine learning repository\n",
    "(http://archive.ics.uci.edu/ml/datasets/Wine). It contains data for 178 instances. \n",
    "The dataset is the results of a chemical analysis of wines grown in the same region\n",
    "in Italy but derived from three different cultivars. The analysis determined the\n",
    "quantities of 13 constituents found in each of the three types of wines. \n",
    "\n",
    "### The features in the dataset are:\n",
    "\n",
    "- Alcohol\n",
    "- Malic acid\n",
    "- Ash\n",
    "- Alcalinity of ash\n",
    "- Magnesium\n",
    "- Total phenols\n",
    "- Flavanoids\n",
    "- Nonflavanoid phenols\n",
    "- Proanthocyanins\n",
    "- Color intensity\n",
    "- Hue\n",
    "- OD280/OD315 of diluted wines\n",
    "-Proline\n",
    "\n"
   ]
  },
  {
   "cell_type": "markdown",
   "metadata": {},
   "source": [
    "We first import all the packages that are needed"
   ]
  },
  {
   "cell_type": "code",
   "execution_count": 1,
   "metadata": {
    "tags": []
   },
   "outputs": [],
   "source": [
    "%matplotlib inline\n",
    "import matplotlib.pyplot as plt\n",
    "\n",
    "\n",
    "import numpy as np\n",
    "import scipy as sp\n",
    "from scipy import stats\n",
    "from sklearn import datasets\n",
    "from sklearn import linear_model\n",
    "from sklearn import preprocessing"
   ]
  },
  {
   "cell_type": "markdown",
   "metadata": {},
   "source": [
    "# Perceptron\n",
    "We will implement the perceptron and use it to learn a halfspace with 0-1 loss."
   ]
  },
  {
   "cell_type": "markdown",
   "metadata": {},
   "source": [
    "**TO DO** Set the random seed to your ID (matricola)."
   ]
  },
  {
   "cell_type": "code",
   "execution_count": 2,
   "metadata": {
    "tags": []
   },
   "outputs": [],
   "source": [
    "IDnumber = 2056755\n",
    "np.random.seed(IDnumber)"
   ]
  },
  {
   "cell_type": "markdown",
   "metadata": {},
   "source": [
    "Load the dataset from scikit learn and then split in training set and test set (50%-50%) after applying a random permutation to the datset."
   ]
  },
  {
   "cell_type": "code",
   "execution_count": 3,
   "metadata": {
    "tags": []
   },
   "outputs": [],
   "source": [
    "# Load the dataset from scikit learn\n",
    "wine = datasets.load_wine()\n",
    "\n",
    "m = wine.data.shape[0]\n",
    "permutation = np.random.permutation(m)\n",
    "\n",
    "X = wine.data[permutation]\n",
    "Y = wine.target[permutation]"
   ]
  },
  {
   "cell_type": "markdown",
   "metadata": {},
   "source": [
    "We are going to classify class \"1\" vs the other two classes (0 and 2). We are going to relabel the other classes (0 and 2) as \"-1\" so that we can use it directly with the perceptron."
   ]
  },
  {
   "cell_type": "code",
   "execution_count": 4,
   "metadata": {},
   "outputs": [
    {
     "name": "stdout",
     "output_type": "stream",
     "text": [
      "[[1.386e+01 1.350e+00 2.270e+00 ... 1.010e+00 3.550e+00 1.045e+03]\n",
      " [1.351e+01 1.800e+00 2.650e+00 ... 1.100e+00 2.870e+00 1.095e+03]\n",
      " [1.377e+01 1.900e+00 2.680e+00 ... 1.130e+00 2.930e+00 1.375e+03]\n",
      " ...\n",
      " [1.416e+01 2.510e+00 2.480e+00 ... 6.200e-01 1.710e+00 6.600e+02]\n",
      " [1.305e+01 3.860e+00 2.320e+00 ... 8.400e-01 2.010e+00 5.150e+02]\n",
      " [1.293e+01 3.800e+00 2.650e+00 ... 1.030e+00 3.520e+00 7.700e+02]]\n",
      "[0 0 0 1 0 2 2 2 1 0 2 2 1 0 0 2 0 2 1 2 1 2 0 1 0 0 2 1 2 0 0 0 2 2 1 1 1\n",
      " 1 1 0 1 0 1 0 0 1 0 2 2 2 1 1 2 2 1 1 0 2 1 0 0 0 2 1 2 1 0 0 2 1 0 0 1 1\n",
      " 1 0 2 0 1 0 2 0 1 2 1 0 2 2 2 1 0 0 1 1 0 1 1 2 1 1 2 2 0 1 1 1 0 1 0 0 0\n",
      " 0 2 0 2 0 0 0 0 0 2 2 2 2 1 0 1 2 1 1 2 1 1 1 1 1 1 1 2 1 2 2 1 1 1 1 1 0\n",
      " 2 1 0 1 0 0 1 1 1 2 2 2 0 1 1 0 2 0 1 0 0 0 1 1 1 1 1 2 1 0]\n"
     ]
    }
   ],
   "source": [
    "print(X)\n",
    "print(Y)"
   ]
  },
  {
   "cell_type": "code",
   "execution_count": 5,
   "metadata": {
    "tags": []
   },
   "outputs": [],
   "source": [
    "#let's relabel classes 0 and 2 as -1\n",
    "for i in range(len(Y)):\n",
    "    if Y[i] != 1:\n",
    "        Y[i] = -1"
   ]
  },
  {
   "cell_type": "markdown",
   "metadata": {},
   "source": [
    "**TO DO** Divide the data into training set and test set (50% of the data each). **Note**: we do not normalize the features since it is not needed for this dataset and task."
   ]
  },
  {
   "cell_type": "code",
   "execution_count": 6,
   "metadata": {
    "tags": []
   },
   "outputs": [
    {
     "name": "stdout",
     "output_type": "stream",
     "text": [
      "[-1 -1 -1  1 -1 -1 -1 -1  1 -1 -1 -1  1 -1 -1 -1 -1 -1  1 -1  1 -1 -1  1\n",
      " -1 -1 -1  1 -1 -1 -1 -1 -1 -1  1  1  1  1  1 -1  1 -1  1 -1 -1  1 -1 -1\n",
      " -1 -1  1  1 -1 -1  1  1 -1 -1  1 -1 -1 -1 -1  1 -1  1 -1 -1 -1  1 -1 -1\n",
      "  1  1  1 -1 -1 -1  1 -1 -1 -1  1 -1  1 -1 -1 -1 -1]\n"
     ]
    }
   ],
   "source": [
    "#Divide in training and test: make sure that your training set\n",
    "#contains at least 10 elements from class 1 and at least 10 elements\n",
    "#from class -1! If it does not, modify the code so to apply more random\n",
    "#permutations (or the same permutation multiple times) until this happens.\n",
    "\n",
    "#m_training needs to be the number of samples in the training set\n",
    "m_training = round(len(X) / 2)\n",
    "\n",
    "#m_test needs to be the number of samples in the test set\n",
    "m_test = round(len(X) / 2)\n",
    "\n",
    "#X_training = instances for training set\n",
    "X_training = X[:m_training]\n",
    "#Y_training = labels for the training set\n",
    "Y_training = Y[:m_training]\n",
    "\n",
    "#X_test = instances for test set\n",
    "X_test = X[m_training:]\n",
    "#Y_test = labels for the test set\n",
    "Y_test = Y[m_training:]\n",
    "\n",
    "print(Y_training) #to make sure that Y_training contains both 1 and -1"
   ]
  },
  {
   "cell_type": "markdown",
   "metadata": {},
   "source": [
    "**TO DO** Now add a 1 in front of each sample so that we can use a vector to describe all the coefficients of the model. You can use the function $hstack$ in $numpy$"
   ]
  },
  {
   "cell_type": "code",
   "execution_count": 7,
   "metadata": {
    "tags": []
   },
   "outputs": [],
   "source": [
    "#add a 1 to each sample\n",
    "X_training = np.hstack((np.ones((m_training, 1)), X_training))\n",
    "X_test = np.hstack((np.ones((m_test, 1)), X_test))"
   ]
  },
  {
   "cell_type": "markdown",
   "metadata": {},
   "source": [
    "**TO DO** Now complete the function *perceptron*. Since the perceptron does not terminate if the data is not linearly separable, your implementation should return the desired output (see below) if it reached the termination condition seen in class or if a maximum number of iterations have already been run, where 1 iteration corresponds to 1 update of the perceptron weights. If the perceptron returns because the maximum number of iterations has been reached, you should return an appropriate model. \n",
    "\n",
    "The input parameters to pass are:\n",
    "- $X$: the matrix of input features, one row for each sample\n",
    "- $Y$: the vector of labels for the input features matrix X\n",
    "- $max\\_num\\_iterations$: the maximum number of iterations for running the perceptron\n",
    "\n",
    "The output values are:\n",
    "- $best\\_w$: the vector with the coefficients of the best model\n",
    "- $best\\_error$: the *fraction* of missclassified samples for the best model"
   ]
  },
  {
   "cell_type": "code",
   "execution_count": 8,
   "metadata": {},
   "outputs": [
    {
     "name": "stdout",
     "output_type": "stream",
     "text": [
      "(89, 14)\n",
      "(89, 14)\n"
     ]
    }
   ],
   "source": [
    "print(np.shape(X_training))\n",
    "print(np.shape(X_test))"
   ]
  },
  {
   "cell_type": "code",
   "execution_count": 9,
   "metadata": {
    "tags": []
   },
   "outputs": [],
   "source": [
    "#Function to perform the perceptron algorithm\n",
    "def perceptron(X, Y, max_num_iterations):\n",
    "    #add a coulumn of 0 to X\n",
    "    w = np.zeros(np.size(X, 1))  \n",
    "    for i in range(max_num_iterations):\n",
    "        #inizialization of miss \n",
    "        miss = 0\n",
    "        for k in range(m_training):\n",
    "            #if encounter an error on labeling we update the miss and the w\n",
    "            if Y[k] * np.dot(X[k], w) <= 0:\n",
    "                miss += 1\n",
    "                w = w + Y[k] * X[k]\n",
    "        best_w = w\n",
    "        new_best_error = miss / m_training\n",
    "        #if no error found w is the optimal \n",
    "        if miss == 0:\n",
    "            break \n",
    "        \n",
    "    return best_w, new_best_error\n",
    "\n",
    "#num_errors = number of errors in the test set and numb of error over the total number of example\n",
    "def perceptron_evaluation(m_test, Y_test, X_test, w_found, iteration):\n",
    "    num_errors = 0.\n",
    "    for i in range(m_test):\n",
    "            if (Y_test[i] * np.dot(X_test[i], w_found)) <= 0:\n",
    "                 num_errors +=1 \n",
    "         \n",
    "    return print(\"Estimated true loss with \" + str(iteration) +\" iterations: \" + str(round(num_errors / m_test,7)) + \n",
    "                 \" number of errors over num of test sample: \" + str(int(num_errors)) + \"/\" + str(m_test))"
   ]
  },
  {
   "cell_type": "markdown",
   "metadata": {},
   "source": [
    "Now we use the implementation above of the perceptron to learn a model from the training data using 100 iterations and print the error of the best model we have found."
   ]
  },
  {
   "cell_type": "code",
   "execution_count": 10,
   "metadata": {
    "tags": []
   },
   "outputs": [
    {
     "name": "stdout",
     "output_type": "stream",
     "text": [
      "Training error with 100 iterations: 0.258427\n"
     ]
    }
   ],
   "source": [
    "#now run the perceptron for 100 iterations\n",
    "w_found, training_error = perceptron(X_training,Y_training, 100)\n",
    "print(\"Training error with 100 iterations: \" + str(round(training_error,7)))"
   ]
  },
  {
   "cell_type": "markdown",
   "metadata": {},
   "source": [
    "**TO DO** use the best model $w\\_found$ to predict the labels for the test dataset and print the fraction of missclassified samples in the test set (that is an estimate of the true loss)."
   ]
  },
  {
   "cell_type": "code",
   "execution_count": 11,
   "metadata": {
    "tags": []
   },
   "outputs": [
    {
     "name": "stdout",
     "output_type": "stream",
     "text": [
      "Estimated true loss with 100 iterations: 0.4157303 number of errors over num of test sample: 37/89\n"
     ]
    }
   ],
   "source": [
    "#now use the w_found to make predictions on test dataset\n",
    "\n",
    "#NOTE: you can avoid using num_errors if you prefer, as long as true_loss_estimate is correct\n",
    "perceptron_evaluation(m_test, Y_test, X_test, w_found, 100)"
   ]
  },
  {
   "cell_type": "markdown",
   "metadata": {},
   "source": [
    "**TO DO**: [Answer the following] what relation do you observe between the training error and the (estimated) true loss? Is this what you expected? Explain what you observe and why it does or does not conform to your expectations. [Write the answer in this cell]\n",
    "\n",
    "**ANSWER**:This is what I expected during the use of the Perceptron algorithm. First of all, it is important to understand informally that the Perceptron constructs a sequence of vectors w, where the first w is a vector all equal to zeros. At some iteration, the Perceptron finds an example that is mislabeled that the dot product of w and X is different from the label Y. Then, the Perceptron updates w by adding to it the instance X scaled by the label Y.\n",
    "I saved vector w_found of the training data and used it to evaluate the true loss on the test data, so what I wrote above, the algorithm is updating itself to fit the train data as its best, so it was quite normal that the true loss score higher than the training error. \n",
    "In conclusion, when we evaluate the w_found on the test set it's possible to obserbe a large amount of missclassified example 37/89, the found w_found isn't a good choice for the test data."
   ]
  },
  {
   "cell_type": "markdown",
   "metadata": {},
   "source": [
    "**TO DO** Copy the code from the last 2 cells above in the cell below and repeat the training with 10000 iterations. "
   ]
  },
  {
   "cell_type": "code",
   "execution_count": 12,
   "metadata": {
    "tags": []
   },
   "outputs": [
    {
     "name": "stdout",
     "output_type": "stream",
     "text": [
      "Training error with 10000 iterations: 0.1235955\n",
      "Estimated true loss with 10000 iterations: 0.0786517 number of errors over num of test sample: 7/89\n"
     ]
    }
   ],
   "source": [
    "#now run the perceptron for 10000 iterations here!\n",
    "w_found_1, training_error_1 = perceptron(X_training,Y_training, 10000)\n",
    "#training_error = error on the training set\n",
    "print(\"Training error with 10000 iterations: \" + str(round(training_error_1,7)))\n",
    "#NOTE: you can avoid using num_errors if you prefer, as long as true_loss_estimate is correct\n",
    "perceptron_evaluation(m_test, Y_test, X_test, w_found_1, 10000)"
   ]
  },
  {
   "cell_type": "markdown",
   "metadata": {},
   "source": [
    "**TO DO** [Answer the following] What changes in the training error and in the test error (in terms of fraction of missclassified samples)? Explain what you observe. [Write the answer in this cell]\n",
    "\n",
    "**ANSWER** As expected, comparing the cases respectively with 10000 iterations and 100 iterations, the perceptron performs better in the case of 10000 iteration. In fact, looking at the difference between the traing error with 100 iteration that scores 0.26 and the traing error with 10000 iteration that scores  0.12, it's possible to see a clear improvement of 0.14. However, while evaluating the true loss on the training data I got better result then the traning error, possibly this is due to the fact that we have found the best w for the test data. More precisely, by performing some tests on the perceptron algorithm, we can notice that if we keep increasing the number of iterations the training error keeps going down untill reach value 0. On the other side if we perform the true loss on the w found for every w_found created, it's possible to observe that the true loss doesn't go down from 0.08.\n",
    "NB: test code down to undestrstand what i had explained before -->"
   ]
  },
  {
   "cell_type": "code",
   "execution_count": 13,
   "metadata": {},
   "outputs": [
    {
     "name": "stdout",
     "output_type": "stream",
     "text": [
      "Training error with 100000 iterations: 0.0\n",
      "Estimated true loss with 100000 iterations: 0.0786517 number of errors over num of test sample: 7/89\n"
     ]
    }
   ],
   "source": [
    "#now run the perceptron for 100000 iterations here!\n",
    "w_found_2, training_error_2 = perceptron(X_training,Y_training, 100000)\n",
    "#training_error = error on the training set\n",
    "print(\"Training error with 100000 iterations: \" + str(round(training_error_2 , 7)))\n",
    "#NOTE: you can avoid using num_errors if you prefer, as long as true_loss_estimate is correct\n",
    "perceptron_evaluation(m_test, Y_test, X_test, w_found_2, 100000)"
   ]
  },
  {
   "cell_type": "markdown",
   "metadata": {},
   "source": [
    "# Logistic Regression\n",
    "Now we use logistic regression, as implemented in Scikit-learn, to predict labels. We first do it for 2 labels and then for 3 labels. We will also plot the decision region of logistic regression.\n",
    "\n",
    "We first load the dataset again."
   ]
  },
  {
   "cell_type": "code",
   "execution_count": 14,
   "metadata": {},
   "outputs": [],
   "source": [
    "# Load the dataset from scikit learn\n",
    "wine = datasets.load_wine()\n",
    "\n",
    "m = wine.data.shape[0]\n",
    "permutation = np.random.permutation(m)\n",
    "\n",
    "X = wine.data[permutation]\n",
    "Y = wine.target[permutation]"
   ]
  },
  {
   "cell_type": "markdown",
   "metadata": {},
   "source": [
    "**TO DO** As for the previous part, divide the data into training and test (50%-50%), relabel classes 0 and 2 as -1. Here there is no need to add a 1 at the beginning of each row, since it will be done automatically by the function we will use."
   ]
  },
  {
   "cell_type": "code",
   "execution_count": 15,
   "metadata": {
    "tags": []
   },
   "outputs": [],
   "source": [
    "#Divide in training and test: make sure that your training set\n",
    "#contains at least 10 elements from class 1 and at least 10 elements\n",
    "#from class -1! If it does not, modify the code so to apply more random\n",
    "#permutations (or the same permutation multiple times) until this happens.\n",
    "#IMPORTANT: do not change the random seed.\n",
    "\n",
    "m_training = round(len(X) / 2)\n",
    "m_test = round(len(X) / 2)\n",
    "X_training = X[:m_training]\n",
    "Y_training = Y[:m_training]\n",
    "X_test = X[m_training:]\n",
    "Y_test = Y[m_training:]\n",
    "\n",
    "#let's relabel classes 0 and 2 as -1\n",
    "for i in range(len(Y)):\n",
    "    if Y[i] != 1:\n",
    "        Y[i] = -1"
   ]
  },
  {
   "cell_type": "markdown",
   "metadata": {},
   "source": [
    "To define a logistic regression model in Scikit-learn use the instruction\n",
    "\n",
    "$linear\\_model.LogisticRegression(C=1e5)$\n",
    "\n",
    "($C$ is a parameter related to *regularization*, a technique that\n",
    "we will see later in the course. Setting it to a high value is almost\n",
    "as ignoring regularization, so the instruction above corresponds to the\n",
    "logistic regression you have seen in class.)\n",
    "\n",
    "To learn the model you need to use the $fit(...)$ instruction and to predict you need to use the $predict(...)$ function. See the Scikit-learn documentation for how to use it.\n",
    "\n",
    "**TO DO** Define the logistic regression model, then learn the model using the training set and predict on the test set. Then print the fraction of samples missclassified in the training set and in the test set."
   ]
  },
  {
   "cell_type": "code",
   "execution_count": 16,
   "metadata": {},
   "outputs": [],
   "source": [
    "#code to verify the miss franction\n",
    "#call to have a better look like code\n",
    "def miss_fraction(a,b, name_error):\n",
    "    miss = 0\n",
    "    for i in range(len(b)):\n",
    "        if a[i] != b[i]:\n",
    "            miss +=1\n",
    "    return print(\"error rate of \" + str(name_error)+ \" set: \"+str(miss)+\"/\"+str(len(b)))"
   ]
  },
  {
   "cell_type": "code",
   "execution_count": 17,
   "metadata": {},
   "outputs": [
    {
     "name": "stdout",
     "output_type": "stream",
     "text": [
      "error rate of training set: 0/89\n",
      "error rate of test set: 4/89\n",
      "Score on the data: 0.9550561797752809\n"
     ]
    }
   ],
   "source": [
    "#part on logistic regression for 2 classes   \n",
    "logreg1 = linear_model.LogisticRegression(C = 1e5)\n",
    "\n",
    "#preprocessing the data\n",
    "scaler = preprocessing.StandardScaler().fit(X_training)\n",
    "X_training_scaled = scaler.transform(X_training)\n",
    "X_test_scaled = scaler.transform(X_test)\n",
    "\n",
    "#learn from training set\n",
    "regression_model = logreg1.fit(X_training_scaled, Y_training)\n",
    "\n",
    "#predict on training set\n",
    "error_rate_training = regression_model.predict(X_training_scaled)\n",
    "miss_fraction(error_rate_training, Y_training, \"training\")\n",
    "\n",
    "#predict on test set\n",
    "error_rate_test = regression_model.predict(X_test_scaled)\n",
    "miss_fraction(error_rate_test, Y_test, \"test\")\n",
    "print(\"Score on the data: \"+str(regression_model.score(X_test_scaled, Y_test)))"
   ]
  },
  {
   "cell_type": "markdown",
   "metadata": {},
   "source": [
    "Now we do logistic regression for classification with 3 classes.\n",
    "\n",
    "**TO DO** First: let's load the data once again (with the same permutation from before)."
   ]
  },
  {
   "cell_type": "code",
   "execution_count": 18,
   "metadata": {},
   "outputs": [
    {
     "name": "stdout",
     "output_type": "stream",
     "text": [
      "[0 2 1 1 0 2 1 2 2 1 2 2 2 1 0 0 1 0 1 0 0 2 2 2 0 2 1 2 0 1 2 2 0 0 0 2 1\n",
      " 2 0 2 0 1 1 0 2 1 2 1 0 2 0 2 0 1 0 1 2 0 1 1 2 0 1 1 0 1 0 0 2 2 1 1 1 1\n",
      " 2 2 1 0 0 0 1 0 0 1 0 0 0 0 1 1 1 2 1 1 2 0 1 2 1 0 0 2 2 1 2 1 1 2 2 1 0\n",
      " 2 1 0 1 1 2 0 2 2 0 0 2 0 1 1 1 1 2 1 1 1 2 1 0 1 0 1 1 0 1 2 0 2 1 2 0 1\n",
      " 1 1 1 2 0 0 0 0 1 1 1 1 1 1 1 0 1 1 0 2 0 0 1 0 2 0 0 1 1 0]\n",
      "number of 0: 33\n",
      "number of 1: 29\n",
      "number of 2: 27\n",
      "[0 2 1 1 0 2 1 2 2 1 2 2 2 1 0 0 1 0 1 0 0 2 2 2 0 2 1 2 0 1 2 2 0 0 0 2 1\n",
      " 2 0 2 0 1 1 0 2 1 2 1 0 2 0 2 0 1 0 1 2 0 1 1 2 0 1 1 0 1 0 0 2 2 1 1 1 1\n",
      " 2 2 1 0 0 0 1 0 0 1 0 0 0 0 1]\n"
     ]
    }
   ],
   "source": [
    "#part on logistic regression for 3 classes\n",
    "\n",
    "#Divide in training and test: make sure that your training set\n",
    "#contains at least 10 elements from each of the 3 classes!\n",
    "#If it does not, modify the code so to apply more random\n",
    "#permutations (or the same permutation multiple times) until this happens.\n",
    "#IMPORTANT: do not change the random seed.\n",
    "X = wine.data[permutation]\n",
    "Y = wine.target[permutation]\n",
    "print(Y)\n",
    "\n",
    "#work if we use Y like less but near to the m_training / 3 \n",
    "#EXAMPLE: count < (m_training / 3) - 1 or ...\n",
    "#in this case it's really difficult to find a permutation with less then 10 example for each element {1,0,2}\n",
    "#This is a good algorith for stringent cases\n",
    "\n",
    "def ten_element_012(Y, permutation):\n",
    "    count_1=0 \n",
    "    count_2=0\n",
    "    count_0=0\n",
    "    for i in range(m_training):\n",
    "        if Y[i] == 1:\n",
    "            count_1 += 1\n",
    "        if Y[i] == 0:\n",
    "            count_0 += 1\n",
    "        if Y[i] == 2:\n",
    "            count_2 += 1\n",
    "    print(\"number of 0: \"+ str(count_0))\n",
    "    print(\"number of 1: \"+ str(count_1))\n",
    "    print(\"number of 2: \"+ str(count_2))\n",
    "    #if don't find a solution with at least 10 element call the recursion and change the permutation\n",
    "    if count_1 < 10  or count_0 < 10 or count_2 < 10:\n",
    "        print(\"fail\")\n",
    "        #change permutation\n",
    "        permutation = np.random.permutation(m)\n",
    "        #recall the target Y with the new permutation and the new permutation as parametrer\n",
    "        return ten_element_012(wine.target[permutation], permutation)\n",
    "    \n",
    "    #if the permutation is fine just recall X and Y with the permutation to match X with Y\n",
    "    #Y is already defined with the right permutation \n",
    "    X = wine.data[permutation]\n",
    "    return X, Y\n",
    "\n",
    "X, Y = ten_element_012(Y, permutation)\n",
    "X_training = X[:m_training]\n",
    "Y_training = Y[:m_training]\n",
    "X_test = X[m_training:]\n",
    "Y_test = Y[m_training:]\n",
    "\n",
    "print(Y_training)"
   ]
  },
  {
   "cell_type": "markdown",
   "metadata": {},
   "source": [
    "**TO DO** Now perform logistic regression (instructions as before) for 3 classes, learning a model from the training set and predicting on the test set. Print the fraction of missclassified samples on the training set and the fraction of missclassified samples on the test set."
   ]
  },
  {
   "cell_type": "code",
   "execution_count": 25,
   "metadata": {},
   "outputs": [
    {
     "name": "stdout",
     "output_type": "stream",
     "text": [
      "[[ 0.98237598 -0.73803113  0.86123105  0.22420274  1.1798779   1.13504057\n",
      "   1.38654118  0.30836535  0.16679917  0.55281707  0.77836883 -0.01944179\n",
      "   1.17737898]]\n",
      "error rate of training set: 0/89\n",
      "error rate of test set: 4/89\n",
      "Score on the data: 0.9550561797752809\n"
     ]
    }
   ],
   "source": [
    "#define logistic regression model\n",
    "#NOTE: multi_class = 'ovr'  or 'multinomial' and we score better results\n",
    "#but in the TODO isn't asked and specified \"istructions as before\"\n",
    "logreg2 = linear_model.LogisticRegression(C = 1e5)\n",
    "\n",
    "#preprocessing the data\n",
    "scaler = preprocessing.StandardScaler().fit(X_training)\n",
    "X_training_scaled = scaler.transform(X_training)\n",
    "X_test_scaled = scaler.transform(X_test)\n",
    "print(X_training_scaled[:1,:])\n",
    "\n",
    "#learn from training set\n",
    "regression_model = logreg2.fit(X_training_scaled, Y_training)\n",
    "\n",
    "#predict on training set\n",
    "error_rate_training = regression_model.predict(X_training_scaled)\n",
    "miss_fraction(error_rate_training, Y_training, \"training\")\n",
    "\n",
    "#predict on test set\n",
    "error_rate_test = regression_model.predict(X_test_scaled)\n",
    "miss_fraction(error_rate_test, Y_test, \"test\")\n",
    "print(\"Score on the data: \"+str(regression_model.score(X_test_scaled, Y_test)))"
   ]
  },
  {
   "cell_type": "markdown",
   "metadata": {},
   "source": [
    "**TO DO** Now pick two features and restrict the dataset to include only two features, whose indices are specified in the $feature$ vector below. Then split into training and test."
   ]
  },
  {
   "cell_type": "code",
   "execution_count": 20,
   "metadata": {},
   "outputs": [
    {
     "name": "stdout",
     "output_type": "stream",
     "text": [
      "(89, 2)\n"
     ]
    }
   ],
   "source": [
    "#to make the plot we need to reduce the data to 2D, so we choose two features\n",
    "\n",
    "features_list = ['Alcohol',\n",
    "'Malic acid',\n",
    "'Ash',\n",
    "'Alcalinity of ash',\n",
    "'Magnesium',\n",
    "'Total phenols',\n",
    "'Flavanoids',\n",
    "'Nonflavanoid phenols',\n",
    "'Proanthocyanins',\n",
    "'Color intensity',\n",
    "'Hue',\n",
    "'OD280/OD315 of diluted wines',\n",
    "'Proline']\n",
    "labels_list = ['class_0', 'class_1', 'class_2']\n",
    "\n",
    "index_feature1 = 0\n",
    "index_feature2 = 1\n",
    "features = [index_feature1, index_feature2]\n",
    "\n",
    "feature_name0 = features_list[features[index_feature1]]\n",
    "feature_name1 = features_list[features[index_feature2]]\n",
    "\n",
    "#X_red is X reduced to include only the 2 features of\n",
    "#indices index_feature1 and index_feature2\n",
    "X_red = X[:,features]\n",
    "\n",
    "len1 = round(len(X)/2)\n",
    "\n",
    "X_red_training = X_red[:len1]\n",
    "Y_training = Y[:len1]\n",
    "print(np.shape(X_red_training))\n",
    "X_red_test = X_red[len1:]\n",
    "Y_test = Y[len1:]"
   ]
  },
  {
   "cell_type": "markdown",
   "metadata": {},
   "source": [
    "Now learn a model using the training data."
   ]
  },
  {
   "cell_type": "code",
   "execution_count": 21,
   "metadata": {},
   "outputs": [],
   "source": [
    "logreg3 = linear_model.LogisticRegression(C = 1e5)\n",
    "\n",
    "#preprocessing the data\n",
    "scaler = preprocessing.StandardScaler().fit(X_red_training)\n",
    "X_training_scaled = scaler.transform(X_red_training)\n",
    "X_test_scaled = scaler.transform(X_red_test)\n",
    "\n",
    "#learn from training set\n",
    "regression_model = logreg3.fit(X_training_scaled, Y_training)"
   ]
  },
  {
   "cell_type": "markdown",
   "metadata": {},
   "source": [
    "If everything is ok, the code below uses the model in $logreg$ to plot the decision region for the two features chosen above, with colors denoting the predicted value. It also plots the points (with correct labels) in the training set. It makes a similar plot for the test set."
   ]
  },
  {
   "cell_type": "code",
   "execution_count": 22,
   "metadata": {},
   "outputs": [
    {
     "name": "stderr",
     "output_type": "stream",
     "text": [
      "<ipython-input-22-e6eeedee12cb>:14: MatplotlibDeprecationWarning: shading='flat' when X and Y have the same dimensions as C is deprecated since 3.3.  Either specify the corners of the quadrilaterals with X and Y, or pass shading='auto', 'nearest' or 'gouraud', or set rcParams['pcolor.shading'].  This will become an error two minor releases later.\n",
      "  plt.pcolormesh(xx, yy, Z, cmap=plt.cm.Paired)\n"
     ]
    },
    {
     "data": {
      "image/png": "[encoded data removed]",
      "text/plain": [
       "<Figure size 360x288 with 1 Axes>"
      ]
     },
     "metadata": {},
     "output_type": "display_data"
    },
    {
     "name": "stderr",
     "output_type": "stream",
     "text": [
      "<ipython-input-22-e6eeedee12cb>:32: MatplotlibDeprecationWarning: shading='flat' when X and Y have the same dimensions as C is deprecated since 3.3.  Either specify the corners of the quadrilaterals with X and Y, or pass shading='auto', 'nearest' or 'gouraud', or set rcParams['pcolor.shading'].  This will become an error two minor releases later.\n",
      "  plt.pcolormesh(xx, yy, Z, cmap=plt.cm.Paired)\n"
     ]
    },
    {
     "data": {
      "image/png": "[encoded data removed]",
      "text/plain": [
       "<Figure size 360x288 with 1 Axes>"
      ]
     },
     "metadata": {},
     "output_type": "display_data"
    }
   ],
   "source": [
    "# Plot the decision boundary. For that, we will assign a color to each\n",
    "# point in the mesh [x_min, x_max]x[y_min, y_max].\n",
    "h = .02  # step size in the mesh\n",
    "x_min, x_max = X_red[:, 0].min() - .5, X_red[:, 0].max() + .5\n",
    "y_min, y_max = X_red[:, 1].min() - .5, X_red[:, 1].max() + .5\n",
    "xx, yy = np.meshgrid(np.arange(x_min, x_max, h), np.arange(y_min, y_max, h))\n",
    "\n",
    "Z = logreg3.predict(np.c_[xx.ravel(), yy.ravel()])\n",
    "\n",
    "# Put the result into a color plot\n",
    "Z = Z.reshape(xx.shape)\n",
    "\n",
    "plt.figure(1, figsize=(5, 4))\n",
    "plt.pcolormesh(xx, yy, Z, cmap=plt.cm.Paired)\n",
    "\n",
    "# Plot also the training points\n",
    "plt.scatter(X_red_training[:, 0], X_red_training[:, 1], c=Y_training, edgecolors='k', cmap=plt.cm.Paired)\n",
    "plt.xlabel(feature_name0)\n",
    "plt.ylabel(feature_name1)\n",
    "\n",
    "plt.xlim(xx.min(), xx.max())\n",
    "plt.ylim(yy.min(), yy.max())\n",
    "plt.xticks(())\n",
    "plt.yticks(())\n",
    "plt.title('Training set')\n",
    "\n",
    "plt.show()\n",
    "\n",
    "# Put the result into a color plot\n",
    "Z = Z.reshape(xx.shape)\n",
    "plt.figure(1, figsize=(5, 4))\n",
    "plt.pcolormesh(xx, yy, Z, cmap=plt.cm.Paired)\n",
    "\n",
    "# Plot also the test points \n",
    "plt.scatter(X_red_test[:, 0], X_red_test[:, 1], c=Y_test, edgecolors='k', cmap=plt.cm.Paired, marker='s')\n",
    "plt.xlabel(feature_name0)\n",
    "plt.ylabel(feature_name1)\n",
    "\n",
    "plt.xlim(xx.min(), xx.max())\n",
    "plt.ylim(yy.min(), yy.max())\n",
    "plt.xticks(())\n",
    "plt.yticks(())\n",
    "plt.title('Test set')\n",
    "\n",
    "plt.show()"
   ]
  },
  {
   "cell_type": "code",
   "execution_count": null,
   "metadata": {},
   "outputs": [],
   "source": []
  }
 ],
 "metadata": {
  "anaconda-cloud": {},
  "kernelspec": {
   "display_name": "Python 3",
   "language": "python",
   "name": "python3"
  },
  "language_info": {
   "codemirror_mode": {
    "name": "ipython",
    "version": 3
   },
   "file_extension": ".py",
   "mimetype": "text/x-python",
   "name": "python",
   "nbconvert_exporter": "python",
   "pygments_lexer": "ipython3",
   "version": "3.8.8"
  }
 },
 "nbformat": 4,
 "nbformat_minor": 4
}
